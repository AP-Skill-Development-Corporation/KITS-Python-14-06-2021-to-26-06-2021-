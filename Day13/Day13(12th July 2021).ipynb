{
 "cells": [
  {
   "cell_type": "markdown",
   "metadata": {},
   "source": [
    "### Today Topics\n",
    "- Functional Programming\n",
    "    - iterators and generator\n",
    "    - **map()**\n",
    "        - mapping a function to an iterable\n",
    "        - a list of results when a function is applied on iterable\n",
    "        - **syntax**\n",
    "            - map(fun,iterable)\n",
    "    - lambda() and \n",
    "    - filter()"
   ]
  },
  {
   "cell_type": "code",
   "execution_count": 28,
   "metadata": {
    "scrolled": true
   },
   "outputs": [
    {
     "data": {
      "text/plain": [
       "17"
      ]
     },
     "execution_count": 28,
     "metadata": {},
     "output_type": "execute_result"
    }
   ],
   "source": [
    "def find_length(st):\n",
    "    return len(st) # st and length of that string\n",
    "\n",
    "find_length(\"ruthu from apssdc\") # single string"
   ]
  },
  {
   "cell_type": "code",
   "execution_count": 23,
   "metadata": {},
   "outputs": [
    {
     "data": {
      "text/plain": [
       "3"
      ]
     },
     "execution_count": 23,
     "metadata": {},
     "output_type": "execute_result"
    }
   ],
   "source": [
    "def find_length(st):\n",
    "    return len(st) # st and length of that string\n",
    "\n",
    "\n",
    "find_length(\"ruthu from apssdc\".split()) # list of words 3 words"
   ]
  },
  {
   "cell_type": "code",
   "execution_count": 24,
   "metadata": {},
   "outputs": [
    {
     "data": {
      "text/plain": [
       "<map at 0x15ebecedc88>"
      ]
     },
     "execution_count": 24,
     "metadata": {},
     "output_type": "execute_result"
    }
   ],
   "source": [
    "lengths=map(find_length,\"ruthu from apssdc\".split())\n",
    "lengths"
   ]
  },
  {
   "cell_type": "code",
   "execution_count": 25,
   "metadata": {
    "collapsed": true
   },
   "outputs": [
    {
     "data": {
      "text/plain": [
       "[5, 4, 6]"
      ]
     },
     "execution_count": 25,
     "metadata": {},
     "output_type": "execute_result"
    }
   ],
   "source": [
    "lengths=list(map(find_length,\"ruthu from apssdc\".split()))\n",
    "lengths"
   ]
  },
  {
   "cell_type": "code",
   "execution_count": 29,
   "metadata": {
    "collapsed": true
   },
   "outputs": [
    {
     "name": "stdout",
     "output_type": "stream",
     "text": [
      "098 56 4567 987 2345\n",
      "098\n",
      "56\n"
     ]
    }
   ],
   "source": [
    "words=input().split()\n",
    "# read space separated values from user and print evens in them if any\n",
    "for num in words:\n",
    "    if int(num)%2==0: # explicit conversion\n",
    "        print(num)"
   ]
  },
  {
   "cell_type": "code",
   "execution_count": 34,
   "metadata": {
    "collapsed": true
   },
   "outputs": [
    {
     "name": "stdout",
     "output_type": "stream",
     "text": [
      "8765 54667 48 09765 23456\n",
      "8765:<class 'int'>\n",
      "54667:<class 'int'>\n",
      "48:<class 'int'>\n",
      "9765:<class 'int'>\n",
      "23456:<class 'int'>\n"
     ]
    }
   ],
   "source": [
    "nums=tuple(map(int,input().split()))# int function is applied on input string\n",
    "\n",
    "for num in nums:\n",
    "    print(num,type(num),sep=\":\")"
   ]
  },
  {
   "cell_type": "code",
   "execution_count": 26,
   "metadata": {},
   "outputs": [
    {
     "data": {
      "text/plain": [
       "5"
      ]
     },
     "execution_count": 26,
     "metadata": {},
     "output_type": "execute_result"
    }
   ],
   "source": [
    "len(\"ruthu\") # count the no.of characters present in st"
   ]
  },
  {
   "cell_type": "code",
   "execution_count": 27,
   "metadata": {},
   "outputs": [
    {
     "data": {
      "text/plain": [
       "4"
      ]
     },
     "execution_count": 27,
     "metadata": {},
     "output_type": "execute_result"
    }
   ],
   "source": [
    "len([1,7,8,9]) # "
   ]
  },
  {
   "cell_type": "code",
   "execution_count": 30,
   "metadata": {},
   "outputs": [
    {
     "data": {
      "text/plain": [
       "98765"
      ]
     },
     "execution_count": 30,
     "metadata": {},
     "output_type": "execute_result"
    }
   ],
   "source": [
    "int(\"98765\")"
   ]
  },
  {
   "cell_type": "code",
   "execution_count": 31,
   "metadata": {},
   "outputs": [
    {
     "data": {
      "text/plain": [
       "'ruthu'"
      ]
     },
     "execution_count": 31,
     "metadata": {},
     "output_type": "execute_result"
    }
   ],
   "source": [
    "\"ruthu\""
   ]
  },
  {
   "cell_type": "code",
   "execution_count": 35,
   "metadata": {},
   "outputs": [
    {
     "name": "stdout",
     "output_type": "stream",
     "text": [
      "8765789\n"
     ]
    }
   ],
   "source": [
    "int(input()) # is this clear\n",
    "word=\"ruthu\" # collection of characts\n",
    "num=87654 # single integer"
   ]
  },
  {
   "cell_type": "markdown",
   "metadata": {},
   "source": [
    "### Lambda\n",
    "- an anonymous function\n",
    "- function without name\n",
    "- can be applied on simpler code/logic\n",
    "- **synatx**\n",
    "    - can take any arguments but gives single expression\n",
    "    - lambda output:arguments"
   ]
  },
  {
   "cell_type": "code",
   "execution_count": 36,
   "metadata": {
    "collapsed": true
   },
   "outputs": [
    {
     "name": "stdout",
     "output_type": "stream",
     "text": [
      "\n"
     ]
    }
   ],
   "source": [
    "print() # just calling , not defining"
   ]
  },
  {
   "cell_type": "code",
   "execution_count": 37,
   "metadata": {},
   "outputs": [
    {
     "data": {
      "text/plain": [
       "3"
      ]
     },
     "execution_count": 37,
     "metadata": {},
     "output_type": "execute_result"
    }
   ],
   "source": [
    "rem=lambda num:num%6 # val\n",
    "rem(9)\n"
   ]
  },
  {
   "cell_type": "code",
   "execution_count": 38,
   "metadata": {},
   "outputs": [
    {
     "data": {
      "text/plain": [
       "3"
      ]
     },
     "execution_count": 38,
     "metadata": {},
     "output_type": "execute_result"
    }
   ],
   "source": [
    "rem(18765)"
   ]
  },
  {
   "cell_type": "code",
   "execution_count": 39,
   "metadata": {},
   "outputs": [
    {
     "data": {
      "text/plain": [
       "'ashokashokashok'"
      ]
     },
     "execution_count": 39,
     "metadata": {},
     "output_type": "execute_result"
    }
   ],
   "source": [
    "mul=lambda st:st*3 # multiplication operator on sting\n",
    "mul(\"ashok\")"
   ]
  },
  {
   "cell_type": "code",
   "execution_count": 40,
   "metadata": {},
   "outputs": [
    {
     "data": {
      "text/plain": [
       "'ruthuashokashokashok'"
      ]
     },
     "execution_count": 40,
     "metadata": {},
     "output_type": "execute_result"
    }
   ],
   "source": [
    "comb=lambda a,b,c:a+b*c\n",
    "comb(\"ruthu\",\"ashok\",3) # "
   ]
  },
  {
   "cell_type": "code",
   "execution_count": 41,
   "metadata": {},
   "outputs": [
    {
     "data": {
      "text/plain": [
       "33"
      ]
     },
     "execution_count": 41,
     "metadata": {},
     "output_type": "execute_result"
    }
   ],
   "source": [
    "comb(9,4,6) # arithmetic operations"
   ]
  },
  {
   "cell_type": "code",
   "execution_count": 42,
   "metadata": {
    "collapsed": true
   },
   "outputs": [
    {
     "name": "stdout",
     "output_type": "stream",
     "text": [
      "first\n",
      "second\n",
      "3\n"
     ]
    },
    {
     "data": {
      "text/plain": [
       "'firstsecondsecondsecond'"
      ]
     },
     "execution_count": 42,
     "metadata": {},
     "output_type": "execute_result"
    }
   ],
   "source": [
    "comb(input(),input(),int(input())) # f+second*3"
   ]
  },
  {
   "cell_type": "code",
   "execution_count": 43,
   "metadata": {
    "collapsed": true
   },
   "outputs": [
    {
     "name": "stdout",
     "output_type": "stream",
     "text": [
      "second value:9\n"
     ]
    },
    {
     "data": {
      "text/plain": [
       "19"
      ]
     },
     "execution_count": 43,
     "metadata": {},
     "output_type": "execute_result"
    }
   ],
   "source": [
    "add=lambda x,y:x+y\n",
    "add(10,int(input(\"second value:\")))"
   ]
  },
  {
   "cell_type": "code",
   "execution_count": 45,
   "metadata": {
    "collapsed": true
   },
   "outputs": [
    {
     "name": "stdout",
     "output_type": "stream",
     "text": [
      "998 45 13 40 62 37 65\n"
     ]
    },
    {
     "data": {
      "text/plain": [
       "[True, False, False, True, True, False, False]"
      ]
     },
     "execution_count": 45,
     "metadata": {},
     "output_type": "execute_result"
    }
   ],
   "source": [
    "# list of words/list\n",
    "li=list(map(int,input().split()))\n",
    "evens=list(map(lambda num:num%2==0,li)) # retuns the iterable\n",
    "evens"
   ]
  },
  {
   "cell_type": "code",
   "execution_count": 46,
   "metadata": {
    "collapsed": true
   },
   "outputs": [
    {
     "name": "stdout",
     "output_type": "stream",
     "text": [
      "998\n",
      "40\n",
      "62\n"
     ]
    }
   ],
   "source": [
    "for num in li:\n",
    "    if num%2==0:\n",
    "        print(num)"
   ]
  },
  {
   "cell_type": "markdown",
   "metadata": {},
   "source": [
    "### Filter()\n",
    "- when this function applied on perticular iterable it will return either true/false\n",
    "- **filter**\n",
    "    - filter(fun,iterable)"
   ]
  },
  {
   "cell_type": "code",
   "execution_count": 50,
   "metadata": {
    "collapsed": true
   },
   "outputs": [
    {
     "data": {
      "text/plain": [
       "False"
      ]
     },
     "execution_count": 50,
     "metadata": {},
     "output_type": "execute_result"
    }
   ],
   "source": [
    "def print_vowels(st):\n",
    "    v=(\"a\",'e','i','o','u',\"A\",'E',\"I\",'O','U')\n",
    "    for ch in st:\n",
    "        if ch in v:\n",
    "            return True\n",
    "        return False\n",
    "        \n",
    "print_vowels(\"k\")"
   ]
  },
  {
   "cell_type": "code",
   "execution_count": 51,
   "metadata": {},
   "outputs": [],
   "source": [
    "def print_vowels(st):\n",
    "    v=(\"a\",'e','i','o','u',\"A\",'E',\"I\",'O','U')\n",
    "    for ch in st:\n",
    "        if ch in v:\n",
    "            return True\n",
    "        "
   ]
  },
  {
   "cell_type": "code",
   "execution_count": 54,
   "metadata": {
    "collapsed": true
   },
   "outputs": [
    {
     "data": {
      "text/plain": [
       "True"
      ]
     },
     "execution_count": 54,
     "metadata": {},
     "output_type": "execute_result"
    }
   ],
   "source": [
    "print_vowels(\"ruthu from apssdc\") # o/p is wrong"
   ]
  },
  {
   "cell_type": "code",
   "execution_count": 60,
   "metadata": {
    "collapsed": true
   },
   "outputs": [
    {
     "name": "stdout",
     "output_type": "stream",
     "text": [
      "[None, True, None, None, True, None, None, None, True, None, None, True, None, None, None, None, None]\n"
     ]
    }
   ],
   "source": [
    "vowels=list(map(print_vowels,\"ruthu from APSSDC\"))\n",
    "print(vowels)"
   ]
  },
  {
   "cell_type": "code",
   "execution_count": 61,
   "metadata": {},
   "outputs": [
    {
     "data": {
      "text/plain": [
       "['u', 'u', 'o', 'A']"
      ]
     },
     "execution_count": 61,
     "metadata": {},
     "output_type": "execute_result"
    }
   ],
   "source": [
    "vowels=list(filter(print_vowels,\"ruthu from APSSDC\"))\n",
    "vowels"
   ]
  },
  {
   "cell_type": "code",
   "execution_count": 64,
   "metadata": {},
   "outputs": [
    {
     "name": "stdout",
     "output_type": "stream",
     "text": [
      "[10, 12, 14, 16, 18, 20, 22, 24, 26, 28, 30, 32, 34, 36, 38, 40, 42, 44, 46, 48, 50, 52, 54, 56, 58, 60, 62, 64, 66, 68, 70, 72, 74, 76, 78, 80, 82, 84, 86, 88, 90, 92, 94, 96, 98]\n"
     ]
    }
   ],
   "source": [
    "\n",
    "evens=list(filter(lambda x:x%2==0,range(10,100)))\n",
    "print(evens)"
   ]
  },
  {
   "cell_type": "code",
   "execution_count": 66,
   "metadata": {},
   "outputs": [],
   "source": [
    "def is_prime(n):\n",
    "    count=0\n",
    "    for num in range(1,n):\n",
    "        if n%num==0:\n",
    "            count+=1\n",
    "    if count==1:\n",
    "        return True\n",
    "    \n",
    "is_prime(12) # no output"
   ]
  },
  {
   "cell_type": "code",
   "execution_count": 68,
   "metadata": {
    "collapsed": true
   },
   "outputs": [
    {
     "name": "stdout",
     "output_type": "stream",
     "text": [
      "98 73 47 83 101\n"
     ]
    },
    {
     "data": {
      "text/plain": [
       "[73, 47, 83, 101]"
      ]
     },
     "execution_count": 68,
     "metadata": {},
     "output_type": "execute_result"
    }
   ],
   "source": [
    "nums=list(map(int,input().split())) # space separated values\n",
    "primes=list(filter(is_prime,nums))\n",
    "primes"
   ]
  },
  {
   "cell_type": "code",
   "execution_count": 72,
   "metadata": {
    "collapsed": true
   },
   "outputs": [
    {
     "data": {
      "text/plain": [
       "[1, True, 90.78]"
      ]
     },
     "execution_count": 72,
     "metadata": {},
     "output_type": "execute_result"
    }
   ],
   "source": [
    "f=[1,True,False,90.78] # False value\n",
    "val=list(filter(None,f))\n",
    "val"
   ]
  },
  {
   "cell_type": "code",
   "execution_count": 73,
   "metadata": {
    "collapsed": true
   },
   "outputs": [
    {
     "name": "stdout",
     "output_type": "stream",
     "text": [
      "Enter n value:5\n",
      "90 87 23 45 10 34\n",
      "90 87 23 45 10 "
     ]
    }
   ],
   "source": [
    "# how to read n space separated integers from user\n",
    "n=int(input(\"Enter n value:\"))\n",
    "nums=input().split()[:n]\n",
    "for num in nums:\n",
    "    print(num,end=\" \")"
   ]
  },
  {
   "cell_type": "markdown",
   "metadata": {},
   "source": [
    "### Data Science\n",
    "- Data Science,web development, IOT, AI & ML , app developement\n",
    "- Simpler in coding\n",
    "- Java needs bundles of code\n",
    "- Data Science\n",
    "    - The complete study of data"
   ]
  },
  {
   "cell_type": "code",
   "execution_count": 76,
   "metadata": {
    "collapsed": true
   },
   "outputs": [
    {
     "ename": "SyntaxError",
     "evalue": "invalid syntax (<ipython-input-76-b3afdf9247c0>, line 2)",
     "output_type": "error",
     "traceback": [
      "\u001b[1;36m  File \u001b[1;32m\"<ipython-input-76-b3afdf9247c0>\"\u001b[1;36m, line \u001b[1;32m2\u001b[0m\n\u001b[1;33m    - contacts(name and phone number)\u001b[0m\n\u001b[1;37m                                   ^\u001b[0m\n\u001b[1;31mSyntaxError\u001b[0m\u001b[1;31m:\u001b[0m invalid syntax\n"
     ]
    }
   ],
   "source": [
    "### Contact Application by usingPython\n",
    "- contacts(name and phone number)\n",
    "- create_contact()\n",
    "- edit_contact()\n",
    "- search contact\n",
    "- delete contact"
   ]
  },
  {
   "cell_type": "code",
   "execution_count": 105,
   "metadata": {},
   "outputs": [],
   "source": [
    "contacts={}  # dictionary\n",
    "def display_contacts():\n",
    "    print(\"Here is your contacts...\\n\")\n",
    "    print(contacts)\n",
    "\n",
    "def create_contact(name,phone):\n",
    "    if name in contacts and phone in contacts.values():\n",
    "        print(\"contact\",name,\"already exist...!\")\n",
    "    else:\n",
    "        contacts[name]=phone\n",
    "        print(name,\"created successfully..!\")\n",
    "    \n",
    "def search_contact(name):\n",
    "    #print(\"search using name and number\") # your task\n",
    "    if name in contacts:\n",
    "        print(name,contacts[name],sep=\":\")\n",
    "    else:\n",
    "        print(\"Contact\",name,\"doesn't exist..!\")\n",
    "def edit_contact(name):\n",
    "    print(\"Current details of contact\\n\")\n",
    "    print(name,contacts[name],sep=\":\")\n",
    "    new=int(input(\"Enter new mobile number:\"))\n",
    "    contacts[name]=new\n",
    "    print(\"Contact updated...!\")\n",
    "          \n",
    "def delete_contact(name):\n",
    "    if name in contacts:\n",
    "        contacts.pop(name)\n",
    "        print(name,\"contact deleted\")\n",
    "    else:\n",
    "          print(\"Contact doesn't exist\")\n",
    "          \n",
    "\n",
    "          "
   ]
  },
  {
   "cell_type": "code",
   "execution_count": 106,
   "metadata": {},
   "outputs": [
    {
     "name": "stdout",
     "output_type": "stream",
     "text": [
      "Here is your contacts...\n",
      "\n",
      "{}\n"
     ]
    }
   ],
   "source": [
    "display_contacts()"
   ]
  },
  {
   "cell_type": "code",
   "execution_count": 107,
   "metadata": {},
   "outputs": [
    {
     "name": "stdout",
     "output_type": "stream",
     "text": [
      "Ruthu created successfully..!\n"
     ]
    }
   ],
   "source": [
    "create_contact(\"Ruthu\",9876543210)"
   ]
  },
  {
   "cell_type": "code",
   "execution_count": 108,
   "metadata": {},
   "outputs": [
    {
     "name": "stdout",
     "output_type": "stream",
     "text": [
      "Vanitha created successfully..!\n"
     ]
    }
   ],
   "source": [
    "create_contact(\"Vanitha\",8907654321)"
   ]
  },
  {
   "cell_type": "code",
   "execution_count": 109,
   "metadata": {},
   "outputs": [
    {
     "name": "stdout",
     "output_type": "stream",
     "text": [
      "Here is your contacts...\n",
      "\n",
      "{'Ruthu': 9876543210, 'Vanitha': 8907654321}\n"
     ]
    }
   ],
   "source": [
    "display_contacts()"
   ]
  },
  {
   "cell_type": "code",
   "execution_count": 110,
   "metadata": {},
   "outputs": [
    {
     "name": "stdout",
     "output_type": "stream",
     "text": [
      "contact Ruthu already exist...!\n",
      "Ashok created successfully..!\n",
      "Nandini created successfully..!\n"
     ]
    }
   ],
   "source": [
    "create_contact(\"Ruthu\",9876543210)\n",
    "create_contact(\"Ashok\",7890654321)\n",
    "create_contact(\"Nandini\",6543217890)\n"
   ]
  },
  {
   "cell_type": "code",
   "execution_count": 111,
   "metadata": {},
   "outputs": [
    {
     "name": "stdout",
     "output_type": "stream",
     "text": [
      "Nandini:6543217890\n"
     ]
    }
   ],
   "source": [
    "search_contact(\"Nandini\")"
   ]
  },
  {
   "cell_type": "code",
   "execution_count": 112,
   "metadata": {},
   "outputs": [
    {
     "name": "stdout",
     "output_type": "stream",
     "text": [
      "Current details of contact\n",
      "\n",
      "Ashok:7890654321\n",
      "Enter new mobile number:9490903998\n",
      "Contact updated...!\n"
     ]
    }
   ],
   "source": [
    "edit_contact(\"Ashok\")"
   ]
  },
  {
   "cell_type": "code",
   "execution_count": 114,
   "metadata": {},
   "outputs": [
    {
     "name": "stdout",
     "output_type": "stream",
     "text": [
      "Here is your contacts...\n",
      "\n",
      "{'Ruthu': 9876543210, 'Vanitha': 8907654321, 'Ashok': 9490903998, 'Nandini': 6543217890}\n"
     ]
    }
   ],
   "source": [
    "display_contacts()"
   ]
  },
  {
   "cell_type": "code",
   "execution_count": 115,
   "metadata": {},
   "outputs": [
    {
     "name": "stdout",
     "output_type": "stream",
     "text": [
      "Vanitha ontact deleted\n"
     ]
    }
   ],
   "source": [
    "delete_contact(\"Vanitha\")"
   ]
  },
  {
   "cell_type": "code",
   "execution_count": 116,
   "metadata": {},
   "outputs": [
    {
     "name": "stdout",
     "output_type": "stream",
     "text": [
      "Here is your contacts...\n",
      "\n",
      "{'Ruthu': 9876543210, 'Ashok': 9490903998, 'Nandini': 6543217890}\n"
     ]
    }
   ],
   "source": [
    "display_contacts()"
   ]
  },
  {
   "cell_type": "code",
   "execution_count": null,
   "metadata": {},
   "outputs": [],
   "source": [
    "2 contacts:\n",
    "    per:per2"
   ]
  }
 ],
 "metadata": {
  "kernelspec": {
   "display_name": "Python 3",
   "language": "python",
   "name": "python3"
  },
  "language_info": {
   "codemirror_mode": {
    "name": "ipython",
    "version": 3
   },
   "file_extension": ".py",
   "mimetype": "text/x-python",
   "name": "python",
   "nbconvert_exporter": "python",
   "pygments_lexer": "ipython3",
   "version": "3.7.4"
  }
 },
 "nbformat": 4,
 "nbformat_minor": 2
}
