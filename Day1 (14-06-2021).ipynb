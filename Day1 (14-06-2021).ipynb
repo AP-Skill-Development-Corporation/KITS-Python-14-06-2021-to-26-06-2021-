{
 "cells": [
  {
   "cell_type": "code",
   "execution_count": null,
   "metadata": {},
   "outputs": [],
   "source": [
    "# day objectives:\n",
    "- registration\n",
    "- installtion\n",
    "- python introduction\n",
    "- jupyter notebook\n",
    "- markdown format\n",
    "- python basics"
   ]
  },
  {
   "cell_type": "markdown",
   "metadata": {},
   "source": [
    "#### installtion:\n",
    "- Software: https://www.anaconda.com/products/individual\n",
    "- Installtion in windows: https://docs.anaconda.com/anaconda/install/windows/\n",
    "- Installation in macos: https://docs.anaconda.com/anaconda/install/mac-os/\n",
    "- Installation in Linux: https://docs.anaconda.com/anaconda/install/linux/"
   ]
  },
  {
   "cell_type": "code",
   "execution_count": null,
   "metadata": {},
   "outputs": [],
   "source": []
  },
  {
   "cell_type": "markdown",
   "metadata": {},
   "source": [
    "## python introduction:\n",
    "### what is python?\n",
    "- python is a simple,general purpose,intepreted scripting language,highlevel,object-oriented programming language.\n",
    "    - simple--->simple syntax to learn and use \n",
    "    - interpreter--->line by line checking\n",
    "    - highlevel--->human understable lanaguage\n",
    "    - it supports oop's concepts--->classes,objects...etc....it chooses object oriented approch\n",
    "- python is developed by guido van rossum\n",
    "- guido van rossum started implementing python in 1989 and released in 1991"
   ]
  },
  {
   "cell_type": "code",
   "execution_count": 3,
   "metadata": {
    "scrolled": true
   },
   "outputs": [
    {
     "name": "stdout",
     "output_type": "stream",
     "text": [
      "hii everyone!!\n"
     ]
    },
    {
     "ename": "NameError",
     "evalue": "name 'hgghcsfhdgfhgd' is not defined",
     "output_type": "error",
     "traceback": [
      "\u001b[1;31m---------------------------------------------------------------------------\u001b[0m",
      "\u001b[1;31mNameError\u001b[0m                                 Traceback (most recent call last)",
      "\u001b[1;32m<ipython-input-3-1a8c4438e216>\u001b[0m in \u001b[0;36m<module>\u001b[1;34m\u001b[0m\n\u001b[0;32m      1\u001b[0m \u001b[0mprint\u001b[0m\u001b[1;33m(\u001b[0m\u001b[1;34m\"hii everyone!!\"\u001b[0m\u001b[1;33m)\u001b[0m\u001b[1;33m\u001b[0m\u001b[1;33m\u001b[0m\u001b[0m\n\u001b[1;32m----> 2\u001b[1;33m \u001b[0mhgghcsfhdgfhgd\u001b[0m\u001b[1;33m\u001b[0m\u001b[1;33m\u001b[0m\u001b[0m\n\u001b[0m\u001b[0;32m      3\u001b[0m \u001b[0mdjsghgjvgj\u001b[0m\u001b[1;33m\u001b[0m\u001b[1;33m\u001b[0m\u001b[0m\n\u001b[0;32m      4\u001b[0m \u001b[0msdjghjvgjshvg\u001b[0m\u001b[1;33m\u001b[0m\u001b[1;33m\u001b[0m\u001b[0m\n\u001b[0;32m      5\u001b[0m \u001b[0mprint\u001b[0m\u001b[1;33m(\u001b[0m\u001b[1;34m\"jgjchgchjg\"\u001b[0m\u001b[1;33m)\u001b[0m\u001b[1;33m\u001b[0m\u001b[1;33m\u001b[0m\u001b[0m\n",
      "\u001b[1;31mNameError\u001b[0m: name 'hgghcsfhdgfhgd' is not defined"
     ]
    }
   ],
   "source": [
    "print(\"hii everyone!!\")  #interpreter--->line by line checking\n",
    "hgghcsfhdgfhgd\n",
    "djsghgjvgj\n",
    "sdjghjvgjshvg\n",
    "print(\"jgjchgchjg\")"
   ]
  },
  {
   "cell_type": "code",
   "execution_count": null,
   "metadata": {},
   "outputs": [],
   "source": [
    "shift+enter------>run the program"
   ]
  },
  {
   "cell_type": "markdown",
   "metadata": {},
   "source": [
    "### why python named python?\n",
    "- the name came from BBC's comedy television show-'MONTY PYTHON'S FLYING CIRCUS'"
   ]
  },
  {
   "cell_type": "raw",
   "metadata": {},
   "source": []
  },
  {
   "cell_type": "markdown",
   "metadata": {},
   "source": [
    "### Python Features:\n",
    "- 1)Easy to learn and use---->simple syntax\n",
    "- 2)Expressive language----> more understandable\n",
    "- 3)interpreted language---->interpreter executes the code in line by line at a time--->it makes dubugging easy \n",
    "- 4)Cross-platform language---->it runs equally on different platforms such as windows,linux,macos.....etc (portable language)\n",
    "- 5)Free and open source--->it is free to download and use and u can share also\n",
    "- 6)object-oriented---->it supports object-oriented language \n",
    "- 7)large-standard library---->it has a large libraries and provides set of modules\n",
    "- 8)extensible---->it implies that other langauges as c/c++....\n",
    "- 9)GUI programming support--->to develop gui ew can use python\n",
    "- 10)integrated----->it can be easily integrated with c,c++,java..etc"
   ]
  },
  {
   "cell_type": "markdown",
   "metadata": {},
   "source": [
    "### python Applications:\n",
    "- Web applications(google,youtube,instagram,drop box...etc)\n",
    "- software developement\n",
    "- game development\n",
    "- Gui based applications\n",
    "- Machine learning\n",
    "- Data science\n",
    "- Artificial Intelligence\n",
    "- business ,education,financial"
   ]
  },
  {
   "cell_type": "markdown",
   "metadata": {},
   "source": [
    "### versions of python:\n",
    "- python 1.0,jan 1994\n",
    "- python 2.0,oct 2000\n",
    "- python 3.0,dec 2008\n",
    "- official website: https://www.python.org/\n",
    "- latest version 3.9.5,May 2021"
   ]
  },
  {
   "cell_type": "code",
   "execution_count": null,
   "metadata": {},
   "outputs": [],
   "source": [
    "#idle software:\n",
    "1)shell--->single line programs--->enter\n",
    "2)script---->multiple lines program---->F5(run module)"
   ]
  },
  {
   "cell_type": "code",
   "execution_count": null,
   "metadata": {},
   "outputs": [],
   "source": [
    "desktop---->python_workshop(folder)--->Day1(14-06-2021)(python3)"
   ]
  },
  {
   "cell_type": "code",
   "execution_count": 4,
   "metadata": {},
   "outputs": [
    {
     "name": "stdout",
     "output_type": "stream",
     "text": [
      "hii hllooo\n"
     ]
    }
   ],
   "source": [
    "print(\"hii hllooo\")"
   ]
  },
  {
   "cell_type": "code",
   "execution_count": 6,
   "metadata": {},
   "outputs": [
    {
     "name": "stdout",
     "output_type": "stream",
     "text": [
      "python workshop\n"
     ]
    }
   ],
   "source": [
    "print(\"python workshop\")"
   ]
  },
  {
   "cell_type": "markdown",
   "metadata": {},
   "source": [
    "- whatsapp group: https://chat.whatsapp.com/Krkdu6SPWHK5YW9wYWp5Ae"
   ]
  },
  {
   "cell_type": "markdown",
   "metadata": {},
   "source": [
    "- apssdc python registration link: http://engineering.apssdc.in/register/\n",
    "    - program type: **workshops**\n",
    "    - program: **Python Programming Online 2021-22**\n",
    "    - course: **python**"
   ]
  },
  {
   "cell_type": "code",
   "execution_count": null,
   "metadata": {},
   "outputs": [],
   "source": []
  }
 ],
 "metadata": {
  "kernelspec": {
   "display_name": "Python 3",
   "language": "python",
   "name": "python3"
  },
  "language_info": {
   "codemirror_mode": {
    "name": "ipython",
    "version": 3
   },
   "file_extension": ".py",
   "mimetype": "text/x-python",
   "name": "python",
   "nbconvert_exporter": "python",
   "pygments_lexer": "ipython3",
   "version": "3.7.3"
  }
 },
 "nbformat": 4,
 "nbformat_minor": 2
}
