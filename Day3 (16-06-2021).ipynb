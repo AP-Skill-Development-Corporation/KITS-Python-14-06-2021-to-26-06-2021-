{
 "cells": [
  {
   "cell_type": "code",
   "execution_count": null,
   "metadata": {},
   "outputs": [],
   "source": [
    "# day objectives:\n",
    "- operators\n",
    "- conditional statements\n",
    "- iterations"
   ]
  },
  {
   "cell_type": "code",
   "execution_count": 4,
   "metadata": {},
   "outputs": [
    {
     "name": "stdout",
     "output_type": "stream",
     "text": [
      "pavani\n",
      "welcome to pavani\n",
      "welcome topavani\n",
      "welcome to pavani\n"
     ]
    }
   ],
   "source": [
    "s=input()\n",
    "print(\"welcome to\",s)\n",
    "print(\"welcome to\"+s)\n",
    "print(\"welcome to \"+s)"
   ]
  },
  {
   "cell_type": "code",
   "execution_count": 5,
   "metadata": {},
   "outputs": [
    {
     "name": "stdout",
     "output_type": "stream",
     "text": [
      "pavani\n",
      "aditya\n",
      "welcome to pavani aditya\n"
     ]
    }
   ],
   "source": [
    "#welcome urname clgname\n",
    "s1=input()\n",
    "s2=input()\n",
    "print(\"welcome to\",s1,s2)"
   ]
  },
  {
   "cell_type": "code",
   "execution_count": null,
   "metadata": {},
   "outputs": [],
   "source": [
    "#operators:\n",
    "- arithmatic operators(+,-,*,/,%,//(floor),**(power))\n",
    "- assignment operators(=,+=,-=,*=,/=,%=,//=,**=)\n",
    "- logical operators (and,or,not)\n",
    "- comparision operators (==,!=,<,>,<=,>=)\n",
    "- bitwise operators (&,|,^,<<,>>)\n",
    "- membership operators(in, not in)\n",
    "- identity operators (is,is not)"
   ]
  },
  {
   "cell_type": "code",
   "execution_count": 9,
   "metadata": {},
   "outputs": [
    {
     "name": "stdout",
     "output_type": "stream",
     "text": [
      "20\n",
      "2\n",
      "22\n",
      "18\n",
      "40\n",
      "10.0\n",
      "0\n",
      "10\n",
      "400\n"
     ]
    }
   ],
   "source": [
    "#- arithmatic operators(+,-,*,/,%,//(floor),**(power)):\n",
    "a=int(input())\n",
    "b=int(input())\n",
    "print(a+b)\n",
    "print(a-b)\n",
    "print(a*b)\n",
    "print(a/b)\n",
    "print(a%b)\n",
    "print(a//b) #absolute value \n",
    "print(a**b) #power"
   ]
  },
  {
   "cell_type": "code",
   "execution_count": 14,
   "metadata": {},
   "outputs": [
    {
     "name": "stdout",
     "output_type": "stream",
     "text": [
      "23\n",
      "23\n",
      "23\n"
     ]
    }
   ],
   "source": [
    "#- assignment operators(=,+=,-=,*=,/=,%=,//=,**=):\n",
    "c=int(input())\n",
    "d=c\n",
    "print(d)\n",
    "print(c)"
   ]
  },
  {
   "cell_type": "code",
   "execution_count": 25,
   "metadata": {
    "scrolled": true
   },
   "outputs": [
    {
     "name": "stdout",
     "output_type": "stream",
     "text": [
      "1\n",
      "3\n",
      "4\n",
      "1\n",
      "3\n",
      "1.0\n",
      "1.0\n",
      "0.0\n",
      "0.0\n"
     ]
    }
   ],
   "source": [
    "c=int(input())\n",
    "d=int(input())\n",
    "c+=d  #c=c+d\n",
    "print(c)   #c=4\n",
    "c-=d #c=c-d\n",
    "print(c)  #c=1\n",
    "c*=d #c=c*d\n",
    "print(c)\n",
    "c/=d #c=c/d\n",
    "print(c)\n",
    "c%=d\n",
    "print(c)\n",
    "c//=d  #c=c//d\n",
    "print(c)\n",
    "c**=d\n",
    "print(c)"
   ]
  },
  {
   "cell_type": "code",
   "execution_count": 26,
   "metadata": {},
   "outputs": [
    {
     "data": {
      "text/plain": [
       "0.0"
      ]
     },
     "execution_count": 26,
     "metadata": {},
     "output_type": "execute_result"
    }
   ],
   "source": [
    "0.0**3"
   ]
  },
  {
   "cell_type": "code",
   "execution_count": 17,
   "metadata": {},
   "outputs": [
    {
     "name": "stdout",
     "output_type": "stream",
     "text": [
      "1\n",
      "45\n"
     ]
    }
   ],
   "source": [
    "c=1\n",
    "print(c)\n",
    "c=45\n",
    "print(c)"
   ]
  },
  {
   "cell_type": "code",
   "execution_count": 18,
   "metadata": {},
   "outputs": [
    {
     "data": {
      "text/plain": [
       "45"
      ]
     },
     "execution_count": 18,
     "metadata": {},
     "output_type": "execute_result"
    }
   ],
   "source": [
    "c"
   ]
  },
  {
   "cell_type": "code",
   "execution_count": 33,
   "metadata": {},
   "outputs": [
    {
     "name": "stdout",
     "output_type": "stream",
     "text": [
      "False\n",
      "True\n",
      "True\n",
      "False\n",
      "True\n",
      "False\n"
     ]
    }
   ],
   "source": [
    "#logical operators:(and,or,not):\n",
    "a=7\n",
    "print(a<5 and a<10)  #and--->both are true\n",
    "print(a<8 and a<10)\n",
    "print(a<5 or a<10)  #or--->any one is true\n",
    "print(a<5 or a<2)\n",
    "print(not(a<5 and a<10))\n",
    "print(not(a<8 and a<10))"
   ]
  },
  {
   "cell_type": "code",
   "execution_count": 36,
   "metadata": {},
   "outputs": [
    {
     "name": "stdout",
     "output_type": "stream",
     "text": [
      "False\n",
      "True\n",
      "True\n",
      "False\n",
      "True\n",
      "False\n"
     ]
    }
   ],
   "source": [
    "# comparision operators(==,!=,<,>,<=,>=)\n",
    "a=2\n",
    "b=5\n",
    "print(a==b)\n",
    "print(a!=b)\n",
    "print(a<b)\n",
    "print(a>b)\n",
    "print(a<=b)\n",
    "print(a>=b)"
   ]
  },
  {
   "cell_type": "code",
   "execution_count": 41,
   "metadata": {},
   "outputs": [
    {
     "name": "stdout",
     "output_type": "stream",
     "text": [
      "2\n",
      "3\n",
      "1\n",
      "16\n",
      "0\n"
     ]
    }
   ],
   "source": [
    "#bitwise (&,|,^,<<,>>)\n",
    "a=2 #0010---->0000 0010\n",
    "b=3 #0011---->0000 0011\n",
    "print(a&b)\n",
    "print(a|b)\n",
    "print(a^b)\n",
    "print(a<<b)   #2<<3\n",
    "print(a>>b)   #2>>3"
   ]
  },
  {
   "cell_type": "code",
   "execution_count": null,
   "metadata": {},
   "outputs": [],
   "source": [
    "#### 0000 0010 (left shift)\n",
    "0000 0100--->1st\n",
    "0000 1000--->2nd\n",
    "0001 0000---->3rd\n",
    "\n",
    "128 64 32 16 8 4 2 1\n",
    "0    0  0  1 0 0 0 0"
   ]
  },
  {
   "cell_type": "code",
   "execution_count": null,
   "metadata": {},
   "outputs": [],
   "source": [
    "#### 0000 0010 (right shift)\n",
    "0000 0001--->1st\n",
    "0000 0000--->2nd\n",
    "0000 0000---->3rd\n",
    "\n",
    "128 64 32 16 8 4 2 1\n",
    "0    0  0  0 0 0 0 0"
   ]
  },
  {
   "cell_type": "code",
   "execution_count": null,
   "metadata": {},
   "outputs": [],
   "source": [
    "x y x&y              x y x|y           x y x^y  \n",
    "0 0  0               0 0  0            0 0  0\n",
    "0 1  0               0 1  1            0 1  1\n",
    "1 0  0               1 0  1            1 0  1\n",
    "1 1  1               1 1  1            1 1  0"
   ]
  },
  {
   "cell_type": "code",
   "execution_count": null,
   "metadata": {},
   "outputs": [],
   "source": [
    "a--->0010\n",
    "b--->0011\n",
    "---------\n",
    "(and)0010---->2\n",
    "(or) 0011---->3\n",
    "(xor)0001---->1"
   ]
  },
  {
   "cell_type": "code",
   "execution_count": 43,
   "metadata": {},
   "outputs": [
    {
     "name": "stdout",
     "output_type": "stream",
     "text": [
      "True\n",
      "False\n"
     ]
    }
   ],
   "source": [
    "#- membership operators(in, not in):\n",
    "a=\"python\"\n",
    "print('y' in a)\n",
    "print('y' not in a)"
   ]
  },
  {
   "cell_type": "code",
   "execution_count": 45,
   "metadata": {},
   "outputs": [
    {
     "name": "stdout",
     "output_type": "stream",
     "text": [
      "False\n",
      "True\n"
     ]
    }
   ],
   "source": [
    "#- identity operators(is,is not)\n",
    "a=25\n",
    "b=17\n",
    "print(a is b)\n",
    "print(a is not b)"
   ]
  },
  {
   "cell_type": "code",
   "execution_count": null,
   "metadata": {},
   "outputs": [],
   "source": []
  },
  {
   "cell_type": "code",
   "execution_count": null,
   "metadata": {},
   "outputs": [],
   "source": [
    "## Conditional statements:\n",
    "- to check the ability of the program we use conditionals\n",
    "# 3 types:\n",
    "1)if\n",
    "2)if-else\n",
    "3)elif"
   ]
  },
  {
   "cell_type": "code",
   "execution_count": null,
   "metadata": {},
   "outputs": [],
   "source": [
    "#indention in python:\n",
    "- for intendation we have to use 4 spaces or 1 tab space\n",
    "- indentation is used to declare a block"
   ]
  },
  {
   "cell_type": "code",
   "execution_count": null,
   "metadata": {},
   "outputs": [],
   "source": [
    "#if:\n",
    "- if statement is used to test a particular condition\n",
    "#syn:\n",
    "if(condition):\n",
    "    print()"
   ]
  },
  {
   "cell_type": "code",
   "execution_count": 47,
   "metadata": {},
   "outputs": [
    {
     "name": "stdout",
     "output_type": "stream",
     "text": [
      "-4\n"
     ]
    }
   ],
   "source": [
    "#positive\n",
    "n=int(input())\n",
    "if n>0:\n",
    "    print(\"positive number\")"
   ]
  },
  {
   "cell_type": "code",
   "execution_count": null,
   "metadata": {},
   "outputs": [],
   "source": [
    "# if-else:\n",
    "if condition false then it enetrs into else block\n",
    "#syn:\n",
    "if (condition):\n",
    "    statement1\n",
    "else:\n",
    "    statement2  "
   ]
  },
  {
   "cell_type": "code",
   "execution_count": 49,
   "metadata": {},
   "outputs": [
    {
     "name": "stdout",
     "output_type": "stream",
     "text": [
      "13\n",
      "your not eligible for vote\n"
     ]
    }
   ],
   "source": [
    "age=int(input())\n",
    "if age>=18:\n",
    "    print(\"your eligible for vote\")\n",
    "else:\n",
    "    print(\"your not eligible for vote\")"
   ]
  },
  {
   "cell_type": "code",
   "execution_count": 52,
   "metadata": {},
   "outputs": [
    {
     "name": "stdout",
     "output_type": "stream",
     "text": [
      "55\n",
      "odd\n"
     ]
    }
   ],
   "source": [
    "n=int(input())\n",
    "if n%2==0:\n",
    "    print(\"even\")\n",
    "else:\n",
    "    print(\"odd\")"
   ]
  },
  {
   "cell_type": "code",
   "execution_count": 53,
   "metadata": {},
   "outputs": [
    {
     "data": {
      "text/plain": [
       "1"
      ]
     },
     "execution_count": 53,
     "metadata": {},
     "output_type": "execute_result"
    }
   ],
   "source": [
    "55%2"
   ]
  },
  {
   "cell_type": "code",
   "execution_count": null,
   "metadata": {},
   "outputs": [],
   "source": [
    "#elif:\n",
    "- if u have more than one condition then u can use elif\n",
    "- #syn:\n",
    "if(condition):\n",
    "    statement1\n",
    "elif(condition):\n",
    "    statement2\n",
    "elif(condition):\n",
    "    statement3\n",
    "elif(condition):\n",
    "    statement4\n",
    "else:\n",
    "    statement5"
   ]
  },
  {
   "cell_type": "code",
   "execution_count": 56,
   "metadata": {},
   "outputs": [
    {
     "name": "stdout",
     "output_type": "stream",
     "text": [
      "80 is big\n"
     ]
    }
   ],
   "source": [
    "#biggest of 3 numbers\n",
    "a,b,c=50,20,80\n",
    "if a>b and a>c:\n",
    "    print(a,\" is big\")\n",
    "elif b>a and b>c:\n",
    "    print(b,\" is big\")\n",
    "else:\n",
    "    print(c,\"is big\")"
   ]
  },
  {
   "cell_type": "code",
   "execution_count": 60,
   "metadata": {},
   "outputs": [
    {
     "name": "stdout",
     "output_type": "stream",
     "text": [
      "$\n",
      "special symbol\n"
     ]
    }
   ],
   "source": [
    "n=input()\n",
    "if ((n>='a' and n<='z') or (n>='A' and n<='Z')):\n",
    "    print(\"Alphabet\")\n",
    "elif (n>='0' and n<='9'):\n",
    "    print(\"digit\")\n",
    "else:\n",
    "    print(\"special symbol\")"
   ]
  },
  {
   "cell_type": "code",
   "execution_count": 65,
   "metadata": {},
   "outputs": [
    {
     "name": "stdout",
     "output_type": "stream",
     "text": [
      "3\n",
      "wednesday\n"
     ]
    }
   ],
   "source": [
    "n=int(input())\n",
    "if(n==0):\n",
    "    print(\"Sunday\")\n",
    "elif (n==1):\n",
    "    print(\"monday\")\n",
    "elif (n==2):\n",
    "    print(\"tuesday\")\n",
    "elif (n==3):\n",
    "    print(\"wednesday\")\n",
    "elif (n==4):\n",
    "    print(\"thursday\")\n",
    "elif (n==5):\n",
    "    print(\"friday\")\n",
    "elif (n==6):\n",
    "    print(\"saturday\")\n",
    "else:\n",
    "    print(\"invalid\")"
   ]
  },
  {
   "cell_type": "code",
   "execution_count": null,
   "metadata": {},
   "outputs": [],
   "source": [
    "# task1:\n",
    "marks-->dynamic input\n",
    "80 to 100---->grade A\n",
    "70  to 79---->grade B\n",
    "60  to 69---->grade C\n",
    "45  to 59---->grade D\n",
    "below 45----->Fail\n",
    "\n",
    "#task 2:\n",
    "a,b---->2 dynamic inputs\n",
    "choice---->1 dynamic input\n",
    "1.add,2.sub,3.mul,4.div,5.mod,6.floor,7.power  (arthmatic operations)....invalid choice\n",
    "\n",
    "#task3:\n",
    "uid--->dynamic (number)\n",
    "50-100--->pwd--->dynamic input\n",
    "    pwd==6789\n",
    "    welcome uid\n",
    "    pwd!=6789\n",
    "    inavlid password\n",
    "invalid uid"
   ]
  },
  {
   "cell_type": "raw",
   "metadata": {},
   "source": []
  },
  {
   "cell_type": "code",
   "execution_count": null,
   "metadata": {},
   "outputs": [],
   "source": [
    "67\n",
    "(50-100)\n",
    "    pwd--->0000\n",
    "    0000==6789--->invalid password\n",
    "    pwd--->6789\n",
    "    6789==6789---->welcome to 67\n",
    "inavlid userid"
   ]
  },
  {
   "cell_type": "code",
   "execution_count": null,
   "metadata": {},
   "outputs": [],
   "source": [
    "20--->a\n",
    "10---->b\n",
    "1------>choice\n",
    "30---->addition"
   ]
  },
  {
   "cell_type": "code",
   "execution_count": null,
   "metadata": {},
   "outputs": [],
   "source": [
    "# nested if\n",
    "you camn use one if or elif statement inside another if or elif\n",
    "#syn:\n",
    "if condition1:\n",
    "    if condition2:\n",
    "        statement1\n",
    "    elif condition3:\n",
    "        statement2\n",
    "    else:\n",
    "        statement3\n",
    "else:\n",
    "    statement4"
   ]
  },
  {
   "cell_type": "code",
   "execution_count": 68,
   "metadata": {},
   "outputs": [
    {
     "name": "stdout",
     "output_type": "stream",
     "text": [
      "4\n",
      "64\n"
     ]
    }
   ],
   "source": [
    "even=int(input())\n",
    "if even%2==0:\n",
    "    if even>5:\n",
    "        print(even**2)\n",
    "    else:\n",
    "        print(even**3)\n",
    "else:\n",
    "    print(\"odd\")"
   ]
  },
  {
   "cell_type": "code",
   "execution_count": null,
   "metadata": {},
   "outputs": [],
   "source": [
    "7---->odd\n",
    "6"
   ]
  },
  {
   "cell_type": "code",
   "execution_count": 66,
   "metadata": {},
   "outputs": [
    {
     "data": {
      "text/plain": [
       "36"
      ]
     },
     "execution_count": 66,
     "metadata": {},
     "output_type": "execute_result"
    }
   ],
   "source": [
    "6**2"
   ]
  },
  {
   "cell_type": "code",
   "execution_count": 69,
   "metadata": {},
   "outputs": [
    {
     "data": {
      "text/plain": [
       "64"
      ]
     },
     "execution_count": 69,
     "metadata": {},
     "output_type": "execute_result"
    }
   ],
   "source": [
    "4**3"
   ]
  },
  {
   "cell_type": "code",
   "execution_count": null,
   "metadata": {},
   "outputs": [],
   "source": []
  },
  {
   "cell_type": "code",
   "execution_count": null,
   "metadata": {},
   "outputs": [],
   "source": [
    "# iterations:\n",
    "#loops:\n",
    "loop repeats a sequence of instructions until a specific condition is satisfied\n",
    "#2 loops:\n",
    "1)for\n",
    "2)while"
   ]
  },
  {
   "cell_type": "code",
   "execution_count": null,
   "metadata": {},
   "outputs": [],
   "source": [
    "#for:\n",
    "- used in the case where we need to execute some part of the cose until the given condition satisfied\n",
    "- for loop is also pre-tested loops\n",
    "#syn:\n",
    "for var in range(start,end+1):\n",
    "    statement\n",
    "    \n",
    "#syn:\n",
    "for var in iterable:\n",
    "    statements"
   ]
  },
  {
   "cell_type": "code",
   "execution_count": 70,
   "metadata": {},
   "outputs": [
    {
     "name": "stdout",
     "output_type": "stream",
     "text": [
      "p\n",
      "y\n",
      "t\n",
      "h\n",
      "o\n",
      "n\n"
     ]
    }
   ],
   "source": [
    "for i in \"python\":\n",
    "    print(i)"
   ]
  },
  {
   "cell_type": "code",
   "execution_count": 78,
   "metadata": {},
   "outputs": [
    {
     "name": "stdout",
     "output_type": "stream",
     "text": [
      "p y t h o n "
     ]
    }
   ],
   "source": [
    "for i in \"python\":\n",
    "    print(i,end=\" \")"
   ]
  },
  {
   "cell_type": "code",
   "execution_count": null,
   "metadata": {},
   "outputs": [],
   "source": [
    "1,10"
   ]
  },
  {
   "cell_type": "code",
   "execution_count": 79,
   "metadata": {},
   "outputs": [
    {
     "name": "stdout",
     "output_type": "stream",
     "text": [
      "1\n",
      "2\n",
      "3\n",
      "4\n",
      "5\n",
      "6\n",
      "7\n",
      "8\n",
      "9\n"
     ]
    }
   ],
   "source": [
    "for i in range(1,10):\n",
    "    print(i)"
   ]
  },
  {
   "cell_type": "code",
   "execution_count": 80,
   "metadata": {},
   "outputs": [
    {
     "name": "stdout",
     "output_type": "stream",
     "text": [
      "1\n",
      "2\n",
      "3\n",
      "4\n",
      "5\n",
      "6\n",
      "7\n",
      "8\n",
      "9\n",
      "10\n"
     ]
    }
   ],
   "source": [
    "for i in range(1,11):\n",
    "    print(i)"
   ]
  },
  {
   "cell_type": "code",
   "execution_count": 81,
   "metadata": {},
   "outputs": [
    {
     "name": "stdout",
     "output_type": "stream",
     "text": [
      "1 2 3 4 5 6 7 8 9 10 "
     ]
    }
   ],
   "source": [
    "for i in range(1,11):\n",
    "    print(i,end=\" \")"
   ]
  },
  {
   "cell_type": "code",
   "execution_count": 82,
   "metadata": {},
   "outputs": [
    {
     "name": "stdout",
     "output_type": "stream",
     "text": [
      "2 4 6 8 10 12 14 16 18 20 "
     ]
    }
   ],
   "source": [
    "for i in range(1,11):\n",
    "    print(i*2,end=\" \")"
   ]
  },
  {
   "cell_type": "code",
   "execution_count": 83,
   "metadata": {},
   "outputs": [
    {
     "name": "stdout",
     "output_type": "stream",
     "text": [
      "1 4 9 16 25 36 49 64 81 100 "
     ]
    }
   ],
   "source": [
    "for i in range(1,11):\n",
    "    print(i**2,end=\" \")"
   ]
  },
  {
   "cell_type": "code",
   "execution_count": 84,
   "metadata": {},
   "outputs": [
    {
     "name": "stdout",
     "output_type": "stream",
     "text": [
      "30\n",
      "1 2 3 4 5 6 7 8 9 10 11 12 13 14 15 16 17 18 19 20 21 22 23 24 25 26 27 28 29 30 "
     ]
    }
   ],
   "source": [
    "n=int(input())\n",
    "for i in range(1,n+1):\n",
    "    print(i,end=\" \")"
   ]
  },
  {
   "cell_type": "code",
   "execution_count": 85,
   "metadata": {},
   "outputs": [
    {
     "name": "stdout",
     "output_type": "stream",
     "text": [
      "30\n",
      "2 4 6 8 10 12 14 16 18 20 22 24 26 28 30 "
     ]
    }
   ],
   "source": [
    "n=int(input())\n",
    "for i in range(1,n+1):\n",
    "    if i%2==0:\n",
    "        print(i,end=\" \")"
   ]
  },
  {
   "cell_type": "code",
   "execution_count": null,
   "metadata": {},
   "outputs": [],
   "source": []
  },
  {
   "cell_type": "markdown",
   "metadata": {},
   "source": [
    "Registered students list:\n",
    "    https://docs.google.com/spreadsheets/d/1VoukJ8anoLbzzMtuoopp2Asabc8EoL3gGFlTXcmNaQg/edit?usp=sharing"
   ]
  }
 ],
 "metadata": {
  "kernelspec": {
   "display_name": "Python 3",
   "language": "python",
   "name": "python3"
  },
  "language_info": {
   "codemirror_mode": {
    "name": "ipython",
    "version": 3
   },
   "file_extension": ".py",
   "mimetype": "text/x-python",
   "name": "python",
   "nbconvert_exporter": "python",
   "pygments_lexer": "ipython3",
   "version": "3.7.3"
  }
 },
 "nbformat": 4,
 "nbformat_minor": 2
}
