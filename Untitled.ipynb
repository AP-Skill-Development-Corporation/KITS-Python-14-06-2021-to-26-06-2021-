{
 "cells": [
  {
   "cell_type": "markdown",
   "metadata": {},
   "source": [
    "### Today Topics\n",
    "- Data Science\n",
    "    - the complete study or analysis of data/information what we have in the system .\n",
    "    - numpy,pandas and matplotlib\n",
    "        - numerical python and used for scientific computation\n",
    "        - array type of data /matrix \n",
    "            - 1 & 2D arrays .\n",
    "        - matrix operations\n",
    "        - scientific computation\n",
    "            - logarithms,exponentials,mean,standard deviation,variance and co-variance .\n",
    "        \n",
    "- **Numpy**\n",
    "    - install numpy module in our local machine\n",
    "        - pip install numpy\n",
    "    - we need to import the features of numpy into our workspace\n",
    "        - import numpy \n",
    "        - import numpy as np\n",
    "        \n",
    "- data is of many types:\n",
    "    - **personal info**\n",
    "        - Name\n",
    "            - words\n",
    "        - Roll_Num/identification\n",
    "            - alphanumeric\n",
    "                - n130417\n",
    "        - mobile number\n",
    "            - integers\n",
    "        - contact address\n",
    "            - aphanumeric and special characters\n",
    "    - **machine**\n",
    "        - data is in form of files\n",
    "            - .txt,.py,.java,.xls,.doc etc .."
   ]
  },
  {
   "cell_type": "code",
   "execution_count": 1,
   "metadata": {},
   "outputs": [],
   "source": [
    "import numpy"
   ]
  },
  {
   "cell_type": "code",
   "execution_count": 2,
   "metadata": {},
   "outputs": [
    {
     "data": {
      "text/plain": [
       "'1.16.5'"
      ]
     },
     "execution_count": 2,
     "metadata": {},
     "output_type": "execute_result"
    }
   ],
   "source": [
    "numpy.__version__ # version of numpy module"
   ]
  },
  {
   "cell_type": "code",
   "execution_count": 3,
   "metadata": {
    "collapsed": true
   },
   "outputs": [
    {
     "data": {
      "text/plain": [
       "['ALLOW_THREADS',\n",
       " 'AxisError',\n",
       " 'BUFSIZE',\n",
       " 'CLIP',\n",
       " 'ComplexWarning',\n",
       " 'DataSource',\n",
       " 'ERR_CALL',\n",
       " 'ERR_DEFAULT',\n",
       " 'ERR_IGNORE',\n",
       " 'ERR_LOG',\n",
       " 'ERR_PRINT',\n",
       " 'ERR_RAISE',\n",
       " 'ERR_WARN',\n",
       " 'FLOATING_POINT_SUPPORT',\n",
       " 'FPE_DIVIDEBYZERO',\n",
       " 'FPE_INVALID',\n",
       " 'FPE_OVERFLOW',\n",
       " 'FPE_UNDERFLOW',\n",
       " 'False_',\n",
       " 'Inf',\n",
       " 'Infinity',\n",
       " 'MAXDIMS',\n",
       " 'MAY_SHARE_BOUNDS',\n",
       " 'MAY_SHARE_EXACT',\n",
       " 'MachAr',\n",
       " 'ModuleDeprecationWarning',\n",
       " 'NAN',\n",
       " 'NINF',\n",
       " 'NZERO',\n",
       " 'NaN',\n",
       " 'PINF',\n",
       " 'PZERO',\n",
       " 'RAISE',\n",
       " 'RankWarning',\n",
       " 'SHIFT_DIVIDEBYZERO',\n",
       " 'SHIFT_INVALID',\n",
       " 'SHIFT_OVERFLOW',\n",
       " 'SHIFT_UNDERFLOW',\n",
       " 'ScalarType',\n",
       " 'Tester',\n",
       " 'TooHardError',\n",
       " 'True_',\n",
       " 'UFUNC_BUFSIZE_DEFAULT',\n",
       " 'UFUNC_PYVALS_NAME',\n",
       " 'VisibleDeprecationWarning',\n",
       " 'WRAP',\n",
       " '_NoValue',\n",
       " '_UFUNC_API',\n",
       " '__NUMPY_SETUP__',\n",
       " '__all__',\n",
       " '__builtins__',\n",
       " '__cached__',\n",
       " '__config__',\n",
       " '__doc__',\n",
       " '__file__',\n",
       " '__git_revision__',\n",
       " '__loader__',\n",
       " '__mkl_version__',\n",
       " '__name__',\n",
       " '__package__',\n",
       " '__path__',\n",
       " '__spec__',\n",
       " '__version__',\n",
       " '_add_newdoc_ufunc',\n",
       " '_arg',\n",
       " '_distributor_init',\n",
       " '_globals',\n",
       " '_mat',\n",
       " '_mklinit',\n",
       " '_pytesttester',\n",
       " 'abs',\n",
       " 'absolute',\n",
       " 'absolute_import',\n",
       " 'add',\n",
       " 'add_docstring',\n",
       " 'add_newdoc',\n",
       " 'add_newdoc_ufunc',\n",
       " 'alen',\n",
       " 'all',\n",
       " 'allclose',\n",
       " 'alltrue',\n",
       " 'amax',\n",
       " 'amin',\n",
       " 'angle',\n",
       " 'any',\n",
       " 'append',\n",
       " 'apply_along_axis',\n",
       " 'apply_over_axes',\n",
       " 'arange',\n",
       " 'arccos',\n",
       " 'arccosh',\n",
       " 'arcsin',\n",
       " 'arcsinh',\n",
       " 'arctan',\n",
       " 'arctan2',\n",
       " 'arctanh',\n",
       " 'argmax',\n",
       " 'argmin',\n",
       " 'argpartition',\n",
       " 'argsort',\n",
       " 'argwhere',\n",
       " 'around',\n",
       " 'array',\n",
       " 'array2string',\n",
       " 'array_equal',\n",
       " 'array_equiv',\n",
       " 'array_repr',\n",
       " 'array_split',\n",
       " 'array_str',\n",
       " 'asanyarray',\n",
       " 'asarray',\n",
       " 'asarray_chkfinite',\n",
       " 'ascontiguousarray',\n",
       " 'asfarray',\n",
       " 'asfortranarray',\n",
       " 'asmatrix',\n",
       " 'asscalar',\n",
       " 'atleast_1d',\n",
       " 'atleast_2d',\n",
       " 'atleast_3d',\n",
       " 'average',\n",
       " 'bartlett',\n",
       " 'base_repr',\n",
       " 'binary_repr',\n",
       " 'bincount',\n",
       " 'bitwise_and',\n",
       " 'bitwise_not',\n",
       " 'bitwise_or',\n",
       " 'bitwise_xor',\n",
       " 'blackman',\n",
       " 'block',\n",
       " 'bmat',\n",
       " 'bool',\n",
       " 'bool8',\n",
       " 'bool_',\n",
       " 'broadcast',\n",
       " 'broadcast_arrays',\n",
       " 'broadcast_to',\n",
       " 'busday_count',\n",
       " 'busday_offset',\n",
       " 'busdaycalendar',\n",
       " 'byte',\n",
       " 'byte_bounds',\n",
       " 'bytes0',\n",
       " 'bytes_',\n",
       " 'c_',\n",
       " 'can_cast',\n",
       " 'cast',\n",
       " 'cbrt',\n",
       " 'cdouble',\n",
       " 'ceil',\n",
       " 'cfloat',\n",
       " 'char',\n",
       " 'character',\n",
       " 'chararray',\n",
       " 'choose',\n",
       " 'clip',\n",
       " 'clongdouble',\n",
       " 'clongfloat',\n",
       " 'column_stack',\n",
       " 'common_type',\n",
       " 'compare_chararrays',\n",
       " 'compat',\n",
       " 'complex',\n",
       " 'complex128',\n",
       " 'complex64',\n",
       " 'complex_',\n",
       " 'complexfloating',\n",
       " 'compress',\n",
       " 'concatenate',\n",
       " 'conj',\n",
       " 'conjugate',\n",
       " 'convolve',\n",
       " 'copy',\n",
       " 'copysign',\n",
       " 'copyto',\n",
       " 'core',\n",
       " 'corrcoef',\n",
       " 'correlate',\n",
       " 'cos',\n",
       " 'cosh',\n",
       " 'count_nonzero',\n",
       " 'cov',\n",
       " 'cross',\n",
       " 'csingle',\n",
       " 'ctypeslib',\n",
       " 'cumprod',\n",
       " 'cumproduct',\n",
       " 'cumsum',\n",
       " 'datetime64',\n",
       " 'datetime_as_string',\n",
       " 'datetime_data',\n",
       " 'deg2rad',\n",
       " 'degrees',\n",
       " 'delete',\n",
       " 'deprecate',\n",
       " 'deprecate_with_doc',\n",
       " 'diag',\n",
       " 'diag_indices',\n",
       " 'diag_indices_from',\n",
       " 'diagflat',\n",
       " 'diagonal',\n",
       " 'diff',\n",
       " 'digitize',\n",
       " 'disp',\n",
       " 'divide',\n",
       " 'division',\n",
       " 'divmod',\n",
       " 'dot',\n",
       " 'double',\n",
       " 'dsplit',\n",
       " 'dstack',\n",
       " 'dtype',\n",
       " 'e',\n",
       " 'ediff1d',\n",
       " 'einsum',\n",
       " 'einsum_path',\n",
       " 'emath',\n",
       " 'empty',\n",
       " 'empty_like',\n",
       " 'equal',\n",
       " 'errstate',\n",
       " 'euler_gamma',\n",
       " 'exp',\n",
       " 'exp2',\n",
       " 'expand_dims',\n",
       " 'expm1',\n",
       " 'extract',\n",
       " 'eye',\n",
       " 'fabs',\n",
       " 'fastCopyAndTranspose',\n",
       " 'fft',\n",
       " 'fill_diagonal',\n",
       " 'find_common_type',\n",
       " 'finfo',\n",
       " 'fix',\n",
       " 'flatiter',\n",
       " 'flatnonzero',\n",
       " 'flexible',\n",
       " 'flip',\n",
       " 'fliplr',\n",
       " 'flipud',\n",
       " 'float',\n",
       " 'float16',\n",
       " 'float32',\n",
       " 'float64',\n",
       " 'float_',\n",
       " 'float_power',\n",
       " 'floating',\n",
       " 'floor',\n",
       " 'floor_divide',\n",
       " 'fmax',\n",
       " 'fmin',\n",
       " 'fmod',\n",
       " 'format_float_positional',\n",
       " 'format_float_scientific',\n",
       " 'format_parser',\n",
       " 'frexp',\n",
       " 'frombuffer',\n",
       " 'fromfile',\n",
       " 'fromfunction',\n",
       " 'fromiter',\n",
       " 'frompyfunc',\n",
       " 'fromregex',\n",
       " 'fromstring',\n",
       " 'full',\n",
       " 'full_like',\n",
       " 'fv',\n",
       " 'gcd',\n",
       " 'generic',\n",
       " 'genfromtxt',\n",
       " 'geomspace',\n",
       " 'get_array_wrap',\n",
       " 'get_include',\n",
       " 'get_printoptions',\n",
       " 'getbufsize',\n",
       " 'geterr',\n",
       " 'geterrcall',\n",
       " 'geterrobj',\n",
       " 'gradient',\n",
       " 'greater',\n",
       " 'greater_equal',\n",
       " 'half',\n",
       " 'hamming',\n",
       " 'hanning',\n",
       " 'heaviside',\n",
       " 'histogram',\n",
       " 'histogram2d',\n",
       " 'histogram_bin_edges',\n",
       " 'histogramdd',\n",
       " 'hsplit',\n",
       " 'hstack',\n",
       " 'hypot',\n",
       " 'i0',\n",
       " 'identity',\n",
       " 'iinfo',\n",
       " 'imag',\n",
       " 'in1d',\n",
       " 'index_exp',\n",
       " 'indices',\n",
       " 'inexact',\n",
       " 'inf',\n",
       " 'info',\n",
       " 'infty',\n",
       " 'inner',\n",
       " 'insert',\n",
       " 'int',\n",
       " 'int0',\n",
       " 'int16',\n",
       " 'int32',\n",
       " 'int64',\n",
       " 'int8',\n",
       " 'int_',\n",
       " 'int_asbuffer',\n",
       " 'intc',\n",
       " 'integer',\n",
       " 'interp',\n",
       " 'intersect1d',\n",
       " 'intp',\n",
       " 'invert',\n",
       " 'ipmt',\n",
       " 'irr',\n",
       " 'is_busday',\n",
       " 'isclose',\n",
       " 'iscomplex',\n",
       " 'iscomplexobj',\n",
       " 'isfinite',\n",
       " 'isfortran',\n",
       " 'isin',\n",
       " 'isinf',\n",
       " 'isnan',\n",
       " 'isnat',\n",
       " 'isneginf',\n",
       " 'isposinf',\n",
       " 'isreal',\n",
       " 'isrealobj',\n",
       " 'isscalar',\n",
       " 'issctype',\n",
       " 'issubclass_',\n",
       " 'issubdtype',\n",
       " 'issubsctype',\n",
       " 'iterable',\n",
       " 'ix_',\n",
       " 'kaiser',\n",
       " 'kron',\n",
       " 'lcm',\n",
       " 'ldexp',\n",
       " 'left_shift',\n",
       " 'less',\n",
       " 'less_equal',\n",
       " 'lexsort',\n",
       " 'lib',\n",
       " 'linalg',\n",
       " 'linspace',\n",
       " 'little_endian',\n",
       " 'load',\n",
       " 'loads',\n",
       " 'loadtxt',\n",
       " 'log',\n",
       " 'log10',\n",
       " 'log1p',\n",
       " 'log2',\n",
       " 'logaddexp',\n",
       " 'logaddexp2',\n",
       " 'logical_and',\n",
       " 'logical_not',\n",
       " 'logical_or',\n",
       " 'logical_xor',\n",
       " 'logspace',\n",
       " 'long',\n",
       " 'longcomplex',\n",
       " 'longdouble',\n",
       " 'longfloat',\n",
       " 'longlong',\n",
       " 'lookfor',\n",
       " 'ma',\n",
       " 'mafromtxt',\n",
       " 'mask_indices',\n",
       " 'mat',\n",
       " 'math',\n",
       " 'matmul',\n",
       " 'matrix',\n",
       " 'matrixlib',\n",
       " 'max',\n",
       " 'maximum',\n",
       " 'maximum_sctype',\n",
       " 'may_share_memory',\n",
       " 'mean',\n",
       " 'median',\n",
       " 'memmap',\n",
       " 'meshgrid',\n",
       " 'mgrid',\n",
       " 'min',\n",
       " 'min_scalar_type',\n",
       " 'minimum',\n",
       " 'mintypecode',\n",
       " 'mirr',\n",
       " 'mod',\n",
       " 'modf',\n",
       " 'moveaxis',\n",
       " 'msort',\n",
       " 'multiply',\n",
       " 'nan',\n",
       " 'nan_to_num',\n",
       " 'nanargmax',\n",
       " 'nanargmin',\n",
       " 'nancumprod',\n",
       " 'nancumsum',\n",
       " 'nanmax',\n",
       " 'nanmean',\n",
       " 'nanmedian',\n",
       " 'nanmin',\n",
       " 'nanpercentile',\n",
       " 'nanprod',\n",
       " 'nanquantile',\n",
       " 'nanstd',\n",
       " 'nansum',\n",
       " 'nanvar',\n",
       " 'nbytes',\n",
       " 'ndarray',\n",
       " 'ndenumerate',\n",
       " 'ndfromtxt',\n",
       " 'ndim',\n",
       " 'ndindex',\n",
       " 'nditer',\n",
       " 'negative',\n",
       " 'nested_iters',\n",
       " 'newaxis',\n",
       " 'nextafter',\n",
       " 'nonzero',\n",
       " 'not_equal',\n",
       " 'nper',\n",
       " 'npv',\n",
       " 'numarray',\n",
       " 'number',\n",
       " 'obj2sctype',\n",
       " 'object',\n",
       " 'object0',\n",
       " 'object_',\n",
       " 'ogrid',\n",
       " 'oldnumeric',\n",
       " 'ones',\n",
       " 'ones_like',\n",
       " 'outer',\n",
       " 'packbits',\n",
       " 'pad',\n",
       " 'partition',\n",
       " 'percentile',\n",
       " 'pi',\n",
       " 'piecewise',\n",
       " 'place',\n",
       " 'pmt',\n",
       " 'poly',\n",
       " 'poly1d',\n",
       " 'polyadd',\n",
       " 'polyder',\n",
       " 'polydiv',\n",
       " 'polyfit',\n",
       " 'polyint',\n",
       " 'polymul',\n",
       " 'polynomial',\n",
       " 'polysub',\n",
       " 'polyval',\n",
       " 'positive',\n",
       " 'power',\n",
       " 'ppmt',\n",
       " 'print_function',\n",
       " 'printoptions',\n",
       " 'prod',\n",
       " 'product',\n",
       " 'promote_types',\n",
       " 'ptp',\n",
       " 'put',\n",
       " 'put_along_axis',\n",
       " 'putmask',\n",
       " 'pv',\n",
       " 'quantile',\n",
       " 'r_',\n",
       " 'rad2deg',\n",
       " 'radians',\n",
       " 'random',\n",
       " 'rank',\n",
       " 'rate',\n",
       " 'ravel',\n",
       " 'ravel_multi_index',\n",
       " 'real',\n",
       " 'real_if_close',\n",
       " 'rec',\n",
       " 'recarray',\n",
       " 'recfromcsv',\n",
       " 'recfromtxt',\n",
       " 'reciprocal',\n",
       " 'record',\n",
       " 'remainder',\n",
       " 'repeat',\n",
       " 'require',\n",
       " 'reshape',\n",
       " 'resize',\n",
       " 'result_type',\n",
       " 'right_shift',\n",
       " 'rint',\n",
       " 'roll',\n",
       " 'rollaxis',\n",
       " 'roots',\n",
       " 'rot90',\n",
       " 'round',\n",
       " 'round_',\n",
       " 'row_stack',\n",
       " 's_',\n",
       " 'safe_eval',\n",
       " 'save',\n",
       " 'savetxt',\n",
       " 'savez',\n",
       " 'savez_compressed',\n",
       " 'sctype2char',\n",
       " 'sctypeDict',\n",
       " 'sctypeNA',\n",
       " 'sctypes',\n",
       " 'searchsorted',\n",
       " 'select',\n",
       " 'set_numeric_ops',\n",
       " 'set_printoptions',\n",
       " 'set_string_function',\n",
       " 'setbufsize',\n",
       " 'setdiff1d',\n",
       " 'seterr',\n",
       " 'seterrcall',\n",
       " 'seterrobj',\n",
       " 'setxor1d',\n",
       " 'shape',\n",
       " 'shares_memory',\n",
       " 'short',\n",
       " 'show_config',\n",
       " 'sign',\n",
       " 'signbit',\n",
       " 'signedinteger',\n",
       " 'sin',\n",
       " 'sinc',\n",
       " 'single',\n",
       " 'singlecomplex',\n",
       " 'sinh',\n",
       " 'size',\n",
       " 'sometrue',\n",
       " 'sort',\n",
       " 'sort_complex',\n",
       " 'source',\n",
       " 'spacing',\n",
       " 'split',\n",
       " 'sqrt',\n",
       " 'square',\n",
       " 'squeeze',\n",
       " 'stack',\n",
       " 'std',\n",
       " 'str',\n",
       " 'str0',\n",
       " 'str_',\n",
       " 'string_',\n",
       " 'subtract',\n",
       " 'sum',\n",
       " 'swapaxes',\n",
       " 'sys',\n",
       " 'take',\n",
       " 'take_along_axis',\n",
       " 'tan',\n",
       " 'tanh',\n",
       " 'tensordot',\n",
       " 'test',\n",
       " 'testing',\n",
       " 'tile',\n",
       " 'timedelta64',\n",
       " 'trace',\n",
       " 'tracemalloc_domain',\n",
       " 'transpose',\n",
       " 'trapz',\n",
       " 'tri',\n",
       " 'tril',\n",
       " 'tril_indices',\n",
       " 'tril_indices_from',\n",
       " 'trim_zeros',\n",
       " 'triu',\n",
       " 'triu_indices',\n",
       " 'triu_indices_from',\n",
       " 'true_divide',\n",
       " 'trunc',\n",
       " 'typeDict',\n",
       " 'typeNA',\n",
       " 'typecodes',\n",
       " 'typename',\n",
       " 'ubyte',\n",
       " 'ufunc',\n",
       " 'uint',\n",
       " 'uint0',\n",
       " 'uint16',\n",
       " 'uint32',\n",
       " 'uint64',\n",
       " 'uint8',\n",
       " 'uintc',\n",
       " 'uintp',\n",
       " 'ulonglong',\n",
       " 'unicode',\n",
       " 'unicode_',\n",
       " 'union1d',\n",
       " 'unique',\n",
       " 'unpackbits',\n",
       " 'unravel_index',\n",
       " 'unsignedinteger',\n",
       " 'unwrap',\n",
       " 'ushort',\n",
       " 'vander',\n",
       " 'var',\n",
       " 'vdot',\n",
       " 'vectorize',\n",
       " 'version',\n",
       " 'void',\n",
       " 'void0',\n",
       " 'vsplit',\n",
       " 'vstack',\n",
       " 'warnings',\n",
       " 'where',\n",
       " 'who',\n",
       " 'zeros',\n",
       " 'zeros_like']"
      ]
     },
     "execution_count": 3,
     "metadata": {},
     "output_type": "execute_result"
    }
   ],
   "source": [
    "dir(numpy)"
   ]
  },
  {
   "cell_type": "markdown",
   "metadata": {},
   "source": [
    "### Creating arrays using numpy module\n",
    "- array is submodule in numpy module\n",
    "- **Syntax**\n",
    "    - numpy.array(ele)"
   ]
  },
  {
   "cell_type": "code",
   "execution_count": 4,
   "metadata": {},
   "outputs": [
    {
     "name": "stdout",
     "output_type": "stream",
     "text": [
      "[1 2 3 4]\n"
     ]
    }
   ],
   "source": [
    "# create the arrays using tuple,list,string\n",
    "ar=numpy.array((1,2,3,4))\n",
    "print(ar) # row matrix"
   ]
  },
  {
   "cell_type": "code",
   "execution_count": 7,
   "metadata": {},
   "outputs": [
    {
     "name": "stdout",
     "output_type": "stream",
     "text": [
      "[ 8  9 10 11 12]\n"
     ]
    }
   ],
   "source": [
    "# array using list\n",
    "li=numpy.array([8,9,10,11,12])\n",
    "print(li)"
   ]
  },
  {
   "cell_type": "code",
   "execution_count": 6,
   "metadata": {},
   "outputs": [
    {
     "name": "stdout",
     "output_type": "stream",
     "text": [
      "['Hi' 'I' 'am' 'Ruthu' 'from' 'apssdc']\n"
     ]
    }
   ],
   "source": [
    "st=numpy.array(\"Hi I am Ruthu from apssdc\".split()) # homogenous data \n",
    "print(st)"
   ]
  },
  {
   "cell_type": "code",
   "execution_count": 9,
   "metadata": {},
   "outputs": [
    {
     "name": "stdout",
     "output_type": "stream",
     "text": [
      "[['1' '2' '3']\n",
      " ['4.0' '5.4' '6.8']\n",
      " ['ruthu' 'vanitha' 'nandini']]\n"
     ]
    }
   ],
   "source": [
    "comb=numpy.array([(1,2,3),(4.0,5.4,6.8),(\"ruthu\",'vanitha','nandini')])\n",
    "print(comb) # 3x3-->9 elements"
   ]
  },
  {
   "cell_type": "code",
   "execution_count": 11,
   "metadata": {},
   "outputs": [
    {
     "name": "stdout",
     "output_type": "stream",
     "text": [
      "[[ 1  2  3  4]\n",
      " [ 2  5  7  4]\n",
      " [ 9  6 32  8]]\n"
     ]
    }
   ],
   "source": [
    "# create the array using list of lists of 3x4\n",
    "arr=numpy.array([[1,2,3,4],[2,5,7,4],[9,6,32,8]])\n",
    "print(arr)\n"
   ]
  },
  {
   "cell_type": "code",
   "execution_count": 15,
   "metadata": {},
   "outputs": [
    {
     "data": {
      "text/plain": [
       "dtype('int32')"
      ]
     },
     "execution_count": 15,
     "metadata": {},
     "output_type": "execute_result"
    }
   ],
   "source": [
    "arr.dtype # datatype of each ele in the array"
   ]
  },
  {
   "cell_type": "code",
   "execution_count": 16,
   "metadata": {},
   "outputs": [
    {
     "data": {
      "text/plain": [
       "12"
      ]
     },
     "execution_count": 16,
     "metadata": {},
     "output_type": "execute_result"
    }
   ],
   "source": [
    "arr.size # no.of elements in array"
   ]
  },
  {
   "cell_type": "code",
   "execution_count": 18,
   "metadata": {},
   "outputs": [
    {
     "data": {
      "text/plain": [
       "(3, 4)"
      ]
     },
     "execution_count": 18,
     "metadata": {},
     "output_type": "execute_result"
    }
   ],
   "source": [
    "arr.shape # no.of rows and columns"
   ]
  },
  {
   "cell_type": "code",
   "execution_count": 23,
   "metadata": {},
   "outputs": [
    {
     "data": {
      "text/plain": [
       "4"
      ]
     },
     "execution_count": 23,
     "metadata": {},
     "output_type": "execute_result"
    }
   ],
   "source": [
    "arr.itemsize # size of each data element"
   ]
  },
  {
   "cell_type": "code",
   "execution_count": 24,
   "metadata": {},
   "outputs": [
    {
     "data": {
      "text/plain": [
       "numpy.ndarray"
      ]
     },
     "execution_count": 24,
     "metadata": {},
     "output_type": "execute_result"
    }
   ],
   "source": [
    "type(arr) # data type of the variable"
   ]
  },
  {
   "cell_type": "code",
   "execution_count": 25,
   "metadata": {},
   "outputs": [
    {
     "data": {
      "text/plain": [
       "2"
      ]
     },
     "execution_count": 25,
     "metadata": {},
     "output_type": "execute_result"
    }
   ],
   "source": [
    "arr.ndim # dimensions of the array"
   ]
  },
  {
   "cell_type": "code",
   "execution_count": 27,
   "metadata": {},
   "outputs": [
    {
     "data": {
      "text/plain": [
       "1"
      ]
     },
     "execution_count": 27,
     "metadata": {},
     "output_type": "execute_result"
    }
   ],
   "source": [
    "ar.ndim # 1 dimensional array"
   ]
  },
  {
   "cell_type": "markdown",
   "metadata": {},
   "source": [
    "### creating the array range() method\n",
    "- range(stop)\n",
    "    - starts from 0 by default\n",
    "- range(lw,up)\n",
    "    - starts from lw and ends with up-1\n",
    "    - upper bound is exclusive\n",
    "    - default incrementing value is +1\n",
    "- range(start,stop,step_count)\n",
    "    - skipping the value in range\n",
    "    - user convinient\n",
    "    \n",
    "- **in reverse order**-\n",
    "    - range(up,-1)\n",
    "         starts from upper bound and stops at 0\n",
    "    - range(up,lw,-1)\n",
    "        - decrementing value"
   ]
  },
  {
   "cell_type": "code",
   "execution_count": 28,
   "metadata": {},
   "outputs": [
    {
     "name": "stdout",
     "output_type": "stream",
     "text": [
      "[0 1 2 3 4 5 6 7 8 9]\n"
     ]
    }
   ],
   "source": [
    "rn=numpy.array(range(10))\n",
    "print(rn)"
   ]
  },
  {
   "cell_type": "code",
   "execution_count": 30,
   "metadata": {},
   "outputs": [
    {
     "name": "stdout",
     "output_type": "stream",
     "text": [
      "[10 14 18 22 26 30 34 38 42 46] <class 'numpy.ndarray'>\n"
     ]
    }
   ],
   "source": [
    "rn2=numpy.array(range(10,50,4))\n",
    "print(rn2,type(rn2))"
   ]
  },
  {
   "cell_type": "markdown",
   "metadata": {},
   "source": [
    "#### Creating array by using arange() in numpy\n",
    "- without using array() we can create arrays using\n",
    "- numpy.arange() # attribute"
   ]
  },
  {
   "cell_type": "code",
   "execution_count": 32,
   "metadata": {},
   "outputs": [
    {
     "name": "stdout",
     "output_type": "stream",
     "text": [
      "[10 11 12 13 14 15 16 17 18 19 20 21 22 23 24 25 26 27 28 29 30 31 32 33\n",
      " 34 35 36 37 38 39]\n"
     ]
    }
   ],
   "source": [
    "rg=numpy.arange(10,40)\n",
    "print(rg)"
   ]
  },
  {
   "cell_type": "code",
   "execution_count": 33,
   "metadata": {},
   "outputs": [
    {
     "name": "stdout",
     "output_type": "stream",
     "text": [
      "[30 35 40 45 50 55 60 65 70 75]\n"
     ]
    }
   ],
   "source": [
    "r=numpy.arange(30,80,5)\n",
    "print(r)"
   ]
  },
  {
   "cell_type": "code",
   "execution_count": 34,
   "metadata": {
    "collapsed": true
   },
   "outputs": [
    {
     "name": "stdout",
     "output_type": "stream",
     "text": [
      "0\n",
      "1\n",
      "2\n",
      "3\n",
      "4\n",
      "5\n",
      "6\n",
      "7\n",
      "8\n",
      "9\n"
     ]
    }
   ],
   "source": [
    "nums=range(10) # 10 values\n",
    "for num in nums:\n",
    "    print(num)"
   ]
  },
  {
   "cell_type": "markdown",
   "metadata": {},
   "source": [
    "#### create arrays using linspace\n",
    "- numpy.linspace(10,30)\n",
    "    - both limits are inclusive"
   ]
  },
  {
   "cell_type": "code",
   "execution_count": 45,
   "metadata": {},
   "outputs": [
    {
     "name": "stdout",
     "output_type": "stream",
     "text": [
      "[10.         10.40816327 10.81632653 11.2244898  11.63265306 12.04081633\n",
      " 12.44897959 12.85714286 13.26530612 13.67346939 14.08163265 14.48979592\n",
      " 14.89795918 15.30612245 15.71428571 16.12244898 16.53061224 16.93877551\n",
      " 17.34693878 17.75510204 18.16326531 18.57142857 18.97959184 19.3877551\n",
      " 19.79591837 20.20408163 20.6122449  21.02040816 21.42857143 21.83673469\n",
      " 22.24489796 22.65306122 23.06122449 23.46938776 23.87755102 24.28571429\n",
      " 24.69387755 25.10204082 25.51020408 25.91836735 26.32653061 26.73469388\n",
      " 27.14285714 27.55102041 27.95918367 28.36734694 28.7755102  29.18367347\n",
      " 29.59183673 30.        ]\n",
      "[ 1.          1.18367347  1.36734694  1.55102041  1.73469388  1.91836735\n",
      "  2.10204082  2.28571429  2.46938776  2.65306122  2.83673469  3.02040816\n",
      "  3.20408163  3.3877551   3.57142857  3.75510204  3.93877551  4.12244898\n",
      "  4.30612245  4.48979592  4.67346939  4.85714286  5.04081633  5.2244898\n",
      "  5.40816327  5.59183673  5.7755102   5.95918367  6.14285714  6.32653061\n",
      "  6.51020408  6.69387755  6.87755102  7.06122449  7.24489796  7.42857143\n",
      "  7.6122449   7.79591837  7.97959184  8.16326531  8.34693878  8.53061224\n",
      "  8.71428571  8.89795918  9.08163265  9.26530612  9.44897959  9.63265306\n",
      "  9.81632653 10.        ]\n",
      "[ 1.  4.  7. 10.]\n"
     ]
    }
   ],
   "source": [
    "np=numpy.linspace(10,30) # 20 values\n",
    "print(np)\n",
    "np2=numpy.linspace(1,10)\n",
    "print(np2)\n",
    "np3=numpy.linspace(10,30,5) # 11 values 11/4\n",
    "print(np3)"
   ]
  },
  {
   "cell_type": "code",
   "execution_count": 37,
   "metadata": {},
   "outputs": [
    {
     "name": "stdout",
     "output_type": "stream",
     "text": [
      "0 1 2 3 4 5 6 7 8 9 10 11 12 13 14 15 16 17 18 19 20 21 22 23 24 25 26 27 28 29 "
     ]
    }
   ],
   "source": [
    "a=numpy.arange(30)\n",
    "for val in a:\n",
    "    print(val,end=\" \")"
   ]
  },
  {
   "cell_type": "code",
   "execution_count": 38,
   "metadata": {
    "collapsed": true
   },
   "outputs": [
    {
     "name": "stdout",
     "output_type": "stream",
     "text": [
      "30\n",
      "28\n",
      "26\n",
      "24\n",
      "22\n",
      "20\n",
      "18\n",
      "16\n",
      "14\n",
      "12\n"
     ]
    }
   ],
   "source": [
    "rev=numpy.arange(30,10,-2)\n",
    "for val in rev:\n",
    "    print(val)"
   ]
  },
  {
   "cell_type": "code",
   "execution_count": 43,
   "metadata": {
    "collapsed": true
   },
   "outputs": [
    {
     "name": "stdout",
     "output_type": "stream",
     "text": [
      "Help on function linspace in module numpy:\n",
      "\n",
      "linspace(start, stop, num=50, endpoint=True, retstep=False, dtype=None, axis=0)\n",
      "    Return evenly spaced numbers over a specified interval.\n",
      "    \n",
      "    Returns `num` evenly spaced samples, calculated over the\n",
      "    interval [`start`, `stop`].\n",
      "    \n",
      "    The endpoint of the interval can optionally be excluded.\n",
      "    \n",
      "    .. versionchanged:: 1.16.0\n",
      "        Non-scalar `start` and `stop` are now supported.\n",
      "    \n",
      "    Parameters\n",
      "    ----------\n",
      "    start : array_like\n",
      "        The starting value of the sequence.\n",
      "    stop : array_like\n",
      "        The end value of the sequence, unless `endpoint` is set to False.\n",
      "        In that case, the sequence consists of all but the last of ``num + 1``\n",
      "        evenly spaced samples, so that `stop` is excluded.  Note that the step\n",
      "        size changes when `endpoint` is False.\n",
      "    num : int, optional\n",
      "        Number of samples to generate. Default is 50. Must be non-negative.\n",
      "    endpoint : bool, optional\n",
      "        If True, `stop` is the last sample. Otherwise, it is not included.\n",
      "        Default is True.\n",
      "    retstep : bool, optional\n",
      "        If True, return (`samples`, `step`), where `step` is the spacing\n",
      "        between samples.\n",
      "    dtype : dtype, optional\n",
      "        The type of the output array.  If `dtype` is not given, infer the data\n",
      "        type from the other input arguments.\n",
      "    \n",
      "        .. versionadded:: 1.9.0\n",
      "    \n",
      "    axis : int, optional\n",
      "        The axis in the result to store the samples.  Relevant only if start\n",
      "        or stop are array-like.  By default (0), the samples will be along a\n",
      "        new axis inserted at the beginning. Use -1 to get an axis at the end.\n",
      "    \n",
      "        .. versionadded:: 1.16.0\n",
      "    \n",
      "    Returns\n",
      "    -------\n",
      "    samples : ndarray\n",
      "        There are `num` equally spaced samples in the closed interval\n",
      "        ``[start, stop]`` or the half-open interval ``[start, stop)``\n",
      "        (depending on whether `endpoint` is True or False).\n",
      "    step : float, optional\n",
      "        Only returned if `retstep` is True\n",
      "    \n",
      "        Size of spacing between samples.\n",
      "    \n",
      "    \n",
      "    See Also\n",
      "    --------\n",
      "    arange : Similar to `linspace`, but uses a step size (instead of the\n",
      "             number of samples).\n",
      "    geomspace : Similar to `linspace`, but with numbers spaced evenly on a log\n",
      "                scale (a geometric progression).\n",
      "    logspace : Similar to `geomspace`, but with the end points specified as\n",
      "               logarithms.\n",
      "    \n",
      "    Examples\n",
      "    --------\n",
      "    >>> np.linspace(2.0, 3.0, num=5)\n",
      "    array([ 2.  ,  2.25,  2.5 ,  2.75,  3.  ])\n",
      "    >>> np.linspace(2.0, 3.0, num=5, endpoint=False)\n",
      "    array([ 2. ,  2.2,  2.4,  2.6,  2.8])\n",
      "    >>> np.linspace(2.0, 3.0, num=5, retstep=True)\n",
      "    (array([ 2.  ,  2.25,  2.5 ,  2.75,  3.  ]), 0.25)\n",
      "    \n",
      "    Graphical illustration:\n",
      "    \n",
      "    >>> import matplotlib.pyplot as plt\n",
      "    >>> N = 8\n",
      "    >>> y = np.zeros(N)\n",
      "    >>> x1 = np.linspace(0, 10, N, endpoint=True)\n",
      "    >>> x2 = np.linspace(0, 10, N, endpoint=False)\n",
      "    >>> plt.plot(x1, y, 'o')\n",
      "    [<matplotlib.lines.Line2D object at 0x...>]\n",
      "    >>> plt.plot(x2, y + 0.5, 'o')\n",
      "    [<matplotlib.lines.Line2D object at 0x...>]\n",
      "    >>> plt.ylim([-0.5, 1])\n",
      "    (-0.5, 1)\n",
      "    >>> plt.show()\n",
      "\n"
     ]
    }
   ],
   "source": [
    "help(numpy.linspace)"
   ]
  },
  {
   "cell_type": "code",
   "execution_count": 47,
   "metadata": {
    "collapsed": true
   },
   "outputs": [
    {
     "name": "stdout",
     "output_type": "stream",
     "text": [
      "10\n",
      "13\n",
      "16\n",
      "19\n"
     ]
    }
   ],
   "source": [
    "for num in range(10,20,3):\n",
    "    print(num)"
   ]
  },
  {
   "cell_type": "code",
   "execution_count": 48,
   "metadata": {
    "collapsed": true
   },
   "outputs": [
    {
     "name": "stdout",
     "output_type": "stream",
     "text": [
      "10.0\n",
      "15.0\n",
      "20.0\n"
     ]
    }
   ],
   "source": [
    "for num in numpy.linspace(10,20,3):\n",
    "    print(num)"
   ]
  },
  {
   "cell_type": "code",
   "execution_count": 52,
   "metadata": {},
   "outputs": [
    {
     "data": {
      "text/plain": [
       "10"
      ]
     },
     "execution_count": 52,
     "metadata": {},
     "output_type": "execute_result"
    }
   ],
   "source": [
    "rn2.size # row matrix"
   ]
  },
  {
   "cell_type": "markdown",
   "metadata": {},
   "source": [
    "#### numpy.reshape()\n",
    "- allows us to pass atleast 2 arg and atmost 3 args"
   ]
  },
  {
   "cell_type": "code",
   "execution_count": 53,
   "metadata": {
    "collapsed": true
   },
   "outputs": [
    {
     "ename": "IndentationError",
     "evalue": "unexpected indent (<ipython-input-53-e0f9dee153db>, line 2)",
     "output_type": "error",
     "traceback": [
      "\u001b[1;36m  File \u001b[1;32m\"<ipython-input-53-e0f9dee153db>\"\u001b[1;36m, line \u001b[1;32m2\u001b[0m\n\u001b[1;33m    1x10\u001b[0m\n\u001b[1;37m    ^\u001b[0m\n\u001b[1;31mIndentationError\u001b[0m\u001b[1;31m:\u001b[0m unexpected indent\n"
     ]
    }
   ],
   "source": [
    "rn2 # 10\n",
    " 1x10\n",
    "    2x5\n",
    "    5x2\n",
    "    10x1"
   ]
  },
  {
   "cell_type": "code",
   "execution_count": 54,
   "metadata": {},
   "outputs": [
    {
     "name": "stdout",
     "output_type": "stream",
     "text": [
      "[[10 14 18 22 26]\n",
      " [30 34 38 42 46]]\n"
     ]
    }
   ],
   "source": [
    "re=rn2.reshape(2,5)\n",
    "print(re)"
   ]
  },
  {
   "cell_type": "code",
   "execution_count": 58,
   "metadata": {},
   "outputs": [
    {
     "name": "stdout",
     "output_type": "stream",
     "text": [
      "[[ 0  1  2  3  4]\n",
      " [ 5  6  7  8  9]\n",
      " [10 11 12 13 14]\n",
      " [15 16 17 18 19]\n",
      " [20 21 22 23 24]\n",
      " [25 26 27 28 29]]\n"
     ]
    }
   ],
   "source": [
    "print(a.reshape(6,5))"
   ]
  },
  {
   "cell_type": "code",
   "execution_count": 60,
   "metadata": {
    "collapsed": true
   },
   "outputs": [
    {
     "data": {
      "text/plain": [
       "array([[ 0,  1,  2,  3,  4],\n",
       "       [ 5,  6,  7,  8,  9],\n",
       "       [10, 11, 12, 13, 14],\n",
       "       [15, 16, 17, 18, 19],\n",
       "       [20, 21, 22, 23, 24],\n",
       "       [25, 26, 27, 28, 29],\n",
       "       [30, 31, 32, 33, 34]])"
      ]
     },
     "execution_count": 60,
     "metadata": {},
     "output_type": "execute_result"
    }
   ],
   "source": [
    "xy=numpy.arange(35).reshape(7,5)\n",
    "xy # "
   ]
  },
  {
   "cell_type": "code",
   "execution_count": 63,
   "metadata": {
    "collapsed": true
   },
   "outputs": [
    {
     "name": "stdout",
     "output_type": "stream",
     "text": [
      "[[ 0  1  2]\n",
      " [ 3  4  5]\n",
      " [ 6  7  8]\n",
      " [ 9 10 11]\n",
      " [12 13 14]]\n"
     ]
    }
   ],
   "source": [
    "y=numpy.arange(15).reshape(5,-3) # represent the unknown value with -ve value\n",
    "print(y)"
   ]
  },
  {
   "cell_type": "markdown",
   "metadata": {},
   "source": [
    "####  creating the random matrix\n",
    "- random values in a range \n",
    "    - range(10,20) # \n",
    "- **syntax**\n",
    "    - random.randint()\n",
    "    - random.rand()\n",
    "    - random.randn()\n",
    "    - random.random()"
   ]
  },
  {
   "cell_type": "code",
   "execution_count": 73,
   "metadata": {},
   "outputs": [
    {
     "data": {
      "text/plain": [
       "17"
      ]
     },
     "execution_count": 73,
     "metadata": {},
     "output_type": "execute_result"
    }
   ],
   "source": [
    "v=numpy.random.randint(10,50)\n",
    "v"
   ]
  },
  {
   "cell_type": "code",
   "execution_count": 74,
   "metadata": {},
   "outputs": [
    {
     "data": {
      "text/plain": [
       "array([58, 30, 71, 38, 55, 49, 73, 34, 88])"
      ]
     },
     "execution_count": 74,
     "metadata": {},
     "output_type": "execute_result"
    }
   ],
   "source": [
    "v2=numpy.random.randint(10,100,9)\n",
    "v2"
   ]
  },
  {
   "cell_type": "code",
   "execution_count": 75,
   "metadata": {
    "collapsed": true
   },
   "outputs": [
    {
     "data": {
      "text/plain": [
       "array([[35, 50, 47, 98, 68, 69, 84],\n",
       "       [33, 49, 20, 96, 45, 93, 62],\n",
       "       [32, 11, 16, 99, 42, 47, 54],\n",
       "       [25, 98, 39, 38, 12, 41, 21]])"
      ]
     },
     "execution_count": 75,
     "metadata": {},
     "output_type": "execute_result"
    }
   ],
   "source": [
    "v3=numpy.random.randint(10,100,(4,7))\n",
    "v3"
   ]
  },
  {
   "cell_type": "code",
   "execution_count": 87,
   "metadata": {
    "collapsed": true
   },
   "outputs": [
    {
     "data": {
      "text/plain": [
       "array([[0.70872414, 0.22462118, 0.63712103, 0.56980138, 0.60030973,\n",
       "        0.06129598, 0.42344551, 0.18112744, 0.66893551, 0.95757811,\n",
       "        0.6861482 , 0.49974753, 0.41751755, 0.4140248 , 0.40045874,\n",
       "        0.96342635, 0.28544804, 0.52151918, 0.92560604, 0.07795933,\n",
       "        0.93251221, 0.01405048, 0.95254268, 0.0386106 , 0.01189001,\n",
       "        0.61853398, 0.15443311, 0.95540782, 0.57490979, 0.25363111,\n",
       "        0.00719626, 0.17882075, 0.4104857 , 0.46889261, 0.54024526,\n",
       "        0.63814989, 0.05634727, 0.59948025, 0.49012836, 0.02777515],\n",
       "       [0.2604643 , 0.58017262, 0.20231942, 0.41125395, 0.98039416,\n",
       "        0.16807953, 0.93591791, 0.43977896, 0.08080439, 0.61115377,\n",
       "        0.338403  , 0.83205654, 0.82315779, 0.83067634, 0.46592434,\n",
       "        0.53673635, 0.61876731, 0.30056729, 0.89174856, 0.57334029,\n",
       "        0.29464788, 0.21420502, 0.58492173, 0.50782892, 0.50782096,\n",
       "        0.44152303, 0.62522935, 0.97276607, 0.78903454, 0.48899256,\n",
       "        0.05337375, 0.2903537 , 0.50751775, 0.18833577, 0.65032955,\n",
       "        0.08469016, 0.54241704, 0.14016224, 0.16713322, 0.52279548],\n",
       "       [0.03682783, 0.72309439, 0.57330058, 0.06407857, 0.07319609,\n",
       "        0.48087011, 0.63652739, 0.31907659, 0.96351335, 0.68955041,\n",
       "        0.34435327, 0.19257702, 0.38649846, 0.62204563, 0.33248422,\n",
       "        0.20263914, 0.61321258, 0.4748473 , 0.0221202 , 0.74587192,\n",
       "        0.19106586, 0.07037573, 0.07417497, 0.47851865, 0.08647752,\n",
       "        0.14403366, 0.19617574, 0.7165574 , 0.12288041, 0.36030144,\n",
       "        0.60131878, 0.53671146, 0.21841098, 0.03594782, 0.64138   ,\n",
       "        0.60242277, 0.07877142, 0.30248285, 0.60519358, 0.81246888],\n",
       "       [0.58029539, 0.57016483, 0.42782684, 0.16437802, 0.34632816,\n",
       "        0.48564249, 0.85885192, 0.92587711, 0.87135811, 0.79719965,\n",
       "        0.11975967, 0.10882537, 0.10938955, 0.4607321 , 0.69548237,\n",
       "        0.96579605, 0.20411846, 0.74013553, 0.60674981, 0.16626744,\n",
       "        0.38598207, 0.11017477, 0.95455299, 0.97942996, 0.87501938,\n",
       "        0.75540825, 0.16666294, 0.83822322, 0.91694587, 0.57140707,\n",
       "        0.95095877, 0.14113963, 0.5698309 , 0.89127387, 0.88027962,\n",
       "        0.01338588, 0.93031938, 0.87584691, 0.3644343 , 0.30537237],\n",
       "       [0.96297381, 0.65116905, 0.55693181, 0.41644247, 0.93588372,\n",
       "        0.08458049, 0.7567999 , 0.60516465, 0.89517751, 0.31852179,\n",
       "        0.242573  , 0.36700105, 0.94182263, 0.02724876, 0.3957074 ,\n",
       "        0.93487291, 0.83362786, 0.77240152, 0.68006574, 0.14477865,\n",
       "        0.88549923, 0.28290942, 0.5684033 , 0.04759852, 0.51264148,\n",
       "        0.71247224, 0.12858437, 0.81540528, 0.91281313, 0.10188854,\n",
       "        0.91260687, 0.01106885, 0.97440182, 0.61831294, 0.74214491,\n",
       "        0.0957552 , 0.3787813 , 0.6662287 , 0.34959905, 0.74354605],\n",
       "       [0.53371628, 0.7291548 , 0.26371154, 0.96571812, 0.88787928,\n",
       "        0.32516159, 0.38574698, 0.2707118 , 0.90070869, 0.90523964,\n",
       "        0.7048953 , 0.15380071, 0.51320239, 0.44454703, 0.77257206,\n",
       "        0.51051264, 0.27189851, 0.20368855, 0.98354751, 0.96628451,\n",
       "        0.72710738, 0.71153073, 0.81638876, 0.08778399, 0.02101847,\n",
       "        0.64832468, 0.20246072, 0.7419827 , 0.25398817, 0.78818889,\n",
       "        0.47295629, 0.89825033, 0.92494992, 0.19983881, 0.95975474,\n",
       "        0.19807592, 0.27104351, 0.20980316, 0.95972662, 0.23664144],\n",
       "       [0.58762364, 0.26664827, 0.34849888, 0.31968322, 0.16459516,\n",
       "        0.82063219, 0.29361722, 0.78997597, 0.81919957, 0.65994639,\n",
       "        0.70253954, 0.31434313, 0.52608157, 0.82999952, 0.10985456,\n",
       "        0.90459465, 0.78284796, 0.95598953, 0.2967256 , 0.01323842,\n",
       "        0.35888926, 0.46755664, 0.78082131, 0.65662393, 0.27180691,\n",
       "        0.77554771, 0.82488504, 0.54101532, 0.59980426, 0.02553492,\n",
       "        0.22770864, 0.57933612, 0.67210621, 0.13614037, 0.09086307,\n",
       "        0.45621601, 0.15210147, 0.14535743, 0.09651073, 0.22104781],\n",
       "       [0.05911816, 0.14993277, 0.23235259, 0.49673115, 0.20514482,\n",
       "        0.47165357, 0.53317293, 0.39151379, 0.68925597, 0.63287748,\n",
       "        0.48927359, 0.95768602, 0.1839695 , 0.75953867, 0.65108279,\n",
       "        0.02489156, 0.44089185, 0.0956644 , 0.32183582, 0.85124484,\n",
       "        0.30167618, 0.32337864, 0.27248473, 0.44273919, 0.37676987,\n",
       "        0.22944844, 0.3916598 , 0.63122857, 0.8193223 , 0.61240519,\n",
       "        0.58195757, 0.90749876, 0.65395713, 0.2535153 , 0.36744846,\n",
       "        0.89904834, 0.75035499, 0.81805572, 0.9750499 , 0.50268394],\n",
       "       [0.22346037, 0.91815689, 0.30808818, 0.96383962, 0.81744245,\n",
       "        0.86404299, 0.08055659, 0.65076179, 0.55201706, 0.53914805,\n",
       "        0.0049484 , 0.44249121, 0.9848709 , 0.02695077, 0.02220291,\n",
       "        0.48650277, 0.04878877, 0.87652728, 0.50876649, 0.64331171,\n",
       "        0.38335175, 0.32698057, 0.34423322, 0.61464593, 0.02486249,\n",
       "        0.65981981, 0.98205117, 0.14129217, 0.1500543 , 0.80374332,\n",
       "        0.81864736, 0.87854683, 0.90098907, 0.08488565, 0.79994772,\n",
       "        0.65704224, 0.86362071, 0.21067035, 0.79829697, 0.40598277],\n",
       "       [0.57744717, 0.2370487 , 0.1517735 , 0.02648379, 0.11325102,\n",
       "        0.16286505, 0.00807563, 0.62608076, 0.02699073, 0.75171105,\n",
       "        0.03128359, 0.41196353, 0.56852573, 0.32322774, 0.0692515 ,\n",
       "        0.77833167, 0.74907424, 0.49563243, 0.78494549, 0.98269773,\n",
       "        0.31573092, 0.23568341, 0.47138089, 0.23150558, 0.81693578,\n",
       "        0.01112229, 0.96485295, 0.76806962, 0.36932845, 0.46956374,\n",
       "        0.76779373, 0.57338105, 0.8087979 , 0.59501043, 0.32129489,\n",
       "        0.89867653, 0.79603022, 0.91807691, 0.03223185, 0.95243469]])"
      ]
     },
     "execution_count": 87,
     "metadata": {},
     "output_type": "execute_result"
    }
   ],
   "source": [
    "v4=numpy.random.rand(10,40)\n",
    "v4"
   ]
  },
  {
   "cell_type": "code",
   "execution_count": 78,
   "metadata": {
    "collapsed": true
   },
   "outputs": [
    {
     "name": "stdout",
     "output_type": "stream",
     "text": [
      "Help on built-in function rand:\n",
      "\n",
      "rand(...) method of mtrand.RandomState instance\n",
      "    rand(d0, d1, ..., dn)\n",
      "    \n",
      "    Random values in a given shape.\n",
      "    \n",
      "    Create an array of the given shape and populate it with\n",
      "    random samples from a uniform distribution\n",
      "    over ``[0, 1)``.\n",
      "    \n",
      "    Parameters\n",
      "    ----------\n",
      "    d0, d1, ..., dn : int, optional\n",
      "        The dimensions of the returned array, should all be positive.\n",
      "        If no argument is given a single Python float is returned.\n",
      "    \n",
      "    Returns\n",
      "    -------\n",
      "    out : ndarray, shape ``(d0, d1, ..., dn)``\n",
      "        Random values.\n",
      "    \n",
      "    See Also\n",
      "    --------\n",
      "    random\n",
      "    \n",
      "    Notes\n",
      "    -----\n",
      "    This is a convenience function. If you want an interface that\n",
      "    takes a shape-tuple as the first argument, refer to\n",
      "    np.random.random_sample .\n",
      "    \n",
      "    Examples\n",
      "    --------\n",
      "    >>> np.random.rand(3,2)\n",
      "    array([[ 0.14022471,  0.96360618],  #random\n",
      "           [ 0.37601032,  0.25528411],  #random\n",
      "           [ 0.49313049,  0.94909878]]) #random\n",
      "\n"
     ]
    }
   ],
   "source": [
    "help(numpy.random.rand)"
   ]
  },
  {
   "cell_type": "code",
   "execution_count": 85,
   "metadata": {
    "collapsed": true
   },
   "outputs": [
    {
     "data": {
      "text/plain": [
       "array([[ 0.38658349, -0.43014009, -0.01555739,  0.27408413,  1.49949884,\n",
       "         0.08631303,  0.78719658,  0.46641074,  0.04603934, -0.12459721,\n",
       "         0.30175665,  0.61286013, -0.51984154,  0.36800143,  1.08236949,\n",
       "         0.83175277, -0.28005784,  0.27521479,  0.78897766,  0.15925959],\n",
       "       [-0.00417311,  0.47274393, -0.54574084, -0.83624093, -0.35244695,\n",
       "        -0.88695118,  0.40504534, -1.08059044,  0.37777765, -1.15850086,\n",
       "         1.43771041, -1.52614727,  0.75232532, -0.58903744, -1.95385715,\n",
       "        -1.01083547,  0.26432383,  0.15478262, -1.7758145 , -0.39933384],\n",
       "       [-0.14551401, -1.26974166,  1.36824925, -1.10815225, -1.30318006,\n",
       "         0.60875922, -0.75803867, -0.02236978, -1.70429742,  0.49260296,\n",
       "         0.53137024,  2.13499536,  1.82185233,  1.6351063 , -1.52021787,\n",
       "        -0.92724243, -0.95085821,  0.01751684, -0.40078711, -0.78861348],\n",
       "       [-0.42967366, -1.10485927, -1.53031919, -3.00716341,  0.21257563,\n",
       "         0.4555644 , -0.19709782,  0.20973594,  1.18118717,  0.08743748,\n",
       "         1.62337292, -0.29227772,  1.22586119, -0.87498343, -0.38773028,\n",
       "         0.38430273,  1.1430983 ,  0.40090608,  0.15587505,  1.18233692],\n",
       "       [-1.05269908, -0.67146018,  0.11928028, -0.00329524, -0.34424653,\n",
       "         0.42782198,  0.19705892, -1.89258531,  0.0379139 , -0.6478878 ,\n",
       "        -0.85394771, -0.99260176, -0.09796499,  0.56987618,  0.03848067,\n",
       "         0.83856818,  0.67033882, -0.74639384, -0.47903742, -0.6474953 ],\n",
       "       [-0.51637875, -0.83572009, -0.30616353,  0.25881224,  0.41448072,\n",
       "        -0.06214021,  0.04657847,  0.51160278, -1.00436887, -0.56457264,\n",
       "         0.0710424 , -1.502452  ,  0.4360742 , -0.36227326,  0.61317049,\n",
       "         1.38420953,  0.80988906,  1.26143032,  0.39166219,  0.66165231],\n",
       "       [ 0.97982446, -0.31534245,  0.34242026,  0.01051193, -0.73456231,\n",
       "         0.55849541,  1.09988853,  0.54656291,  1.02504553,  1.61308601,\n",
       "         0.47674553,  1.20741262, -1.28641251, -0.7945455 , -1.26493956,\n",
       "         0.20507767,  0.55119034,  0.8402529 ,  1.23258049,  0.64453348],\n",
       "       [-0.36648556,  0.22681579,  1.57384254, -0.37087761,  0.1642453 ,\n",
       "         0.83877865, -1.55769557, -1.06319971,  0.52872632,  0.68333058,\n",
       "         1.22230937, -1.22185848,  0.07632943,  1.06812205,  0.39597302,\n",
       "         0.79683966,  0.48147676,  1.38043215,  1.73718923,  1.38452751],\n",
       "       [ 0.19392217, -0.38919259, -0.38750144,  0.79416377, -0.62416675,\n",
       "        -1.45782263, -1.30696447, -0.11955744, -0.57677637, -1.93996337,\n",
       "         0.09257355,  1.36027673, -0.63682762, -1.93369022,  1.29384367,\n",
       "         1.12980548, -0.39749854,  1.58839487, -2.64714274,  1.88994979],\n",
       "       [ 0.22298729,  0.80904492, -0.14197377, -0.33355243,  0.07481042,\n",
       "        -0.20156521,  1.18182436, -0.36408091,  0.79170306, -2.54981642,\n",
       "        -0.61723352, -1.17192764,  0.01978998,  0.20486238, -0.22247444,\n",
       "         0.69896962,  1.42714295, -1.15611523, -0.65434727,  0.35999264]])"
      ]
     },
     "execution_count": 85,
     "metadata": {},
     "output_type": "execute_result"
    }
   ],
   "source": [
    "v5=numpy.random.randn(10,20)\n",
    "v5"
   ]
  },
  {
   "cell_type": "code",
   "execution_count": 86,
   "metadata": {
    "collapsed": true
   },
   "outputs": [
    {
     "data": {
      "text/plain": [
       "array([[0.05803289, 0.33917555, 0.48626116, 0.20388743, 0.55106875,\n",
       "        0.78501697, 0.04551013, 0.25146481, 0.8145485 , 0.85881126,\n",
       "        0.04392408, 0.180548  , 0.98501689, 0.33738705, 0.19681293,\n",
       "        0.95162504, 0.48549297, 0.05345345, 0.66008019, 0.17158677],\n",
       "       [0.21846659, 0.56830654, 0.95570241, 0.47664721, 0.79036993,\n",
       "        0.08270363, 0.94017528, 0.48703361, 0.9975294 , 0.94497328,\n",
       "        0.50584093, 0.87290887, 0.43576808, 0.2890589 , 0.33783846,\n",
       "        0.854738  , 0.37912729, 0.86727859, 0.81821536, 0.16340905],\n",
       "       [0.18814813, 0.25348647, 0.28925948, 0.81908754, 0.29211855,\n",
       "        0.24734056, 0.38368915, 0.05580831, 0.18746771, 0.86013836,\n",
       "        0.84651912, 0.85689391, 0.09021982, 0.13190462, 0.04134503,\n",
       "        0.27767112, 0.69107414, 0.72861768, 0.13073607, 0.69425541],\n",
       "       [0.57796264, 0.67784324, 0.25687372, 0.83423298, 0.84091052,\n",
       "        0.86115449, 0.75376999, 0.81510128, 0.03951738, 0.76807599,\n",
       "        0.02759814, 0.81319442, 0.77215925, 0.35840564, 0.06382082,\n",
       "        0.94755884, 0.00252825, 0.93526334, 0.64437757, 0.23686394],\n",
       "       [0.87070012, 0.96180841, 0.20235401, 0.54992191, 0.97044417,\n",
       "        0.78850814, 0.25536369, 0.99826854, 0.43076134, 0.47353751,\n",
       "        0.78007899, 0.59442216, 0.07298079, 0.92209574, 0.41999002,\n",
       "        0.12974295, 0.22715228, 0.43862101, 0.46802605, 0.57804009],\n",
       "       [0.49112852, 0.57090311, 0.41963305, 0.27840115, 0.89384757,\n",
       "        0.55082185, 0.88455591, 0.18930504, 0.66592562, 0.0705125 ,\n",
       "        0.18708319, 0.13114283, 0.4840327 , 0.53949014, 0.11771502,\n",
       "        0.15415934, 0.33631771, 0.70284628, 0.65003683, 0.33917675],\n",
       "       [0.63905918, 0.64498017, 0.34532171, 0.01305096, 0.01145666,\n",
       "        0.50702259, 0.86089622, 0.73573763, 0.12681276, 0.30108992,\n",
       "        0.83498948, 0.59286036, 0.50803981, 0.70615421, 0.72048538,\n",
       "        0.6823378 , 0.54545506, 0.36931166, 0.12963721, 0.43787474],\n",
       "       [0.77754674, 0.11229077, 0.82079959, 0.51037616, 0.31474979,\n",
       "        0.71742932, 0.94040926, 0.45382315, 0.69082952, 0.91193251,\n",
       "        0.62345006, 0.30887489, 0.93271127, 0.24122514, 0.78178422,\n",
       "        0.57220325, 0.95599855, 0.05416547, 0.08634196, 0.9583815 ],\n",
       "       [0.50665484, 0.8283329 , 0.07880995, 0.66205172, 0.42093946,\n",
       "        0.04446383, 0.98028718, 0.1138188 , 0.67343141, 0.02837845,\n",
       "        0.68477951, 0.06590276, 0.5605892 , 0.1171847 , 0.39861456,\n",
       "        0.74209761, 0.68943555, 0.91537912, 0.7412217 , 0.69733664],\n",
       "       [0.58915762, 0.79704552, 0.78745233, 0.25849885, 0.36423755,\n",
       "        0.79039057, 0.72767438, 0.4630052 , 0.66703917, 0.69573135,\n",
       "        0.45454731, 0.85901938, 0.96160742, 0.02450738, 0.67890653,\n",
       "        0.34265497, 0.57831909, 0.89088377, 0.23075294, 0.90450469]])"
      ]
     },
     "execution_count": 86,
     "metadata": {},
     "output_type": "execute_result"
    }
   ],
   "source": [
    "v6=numpy.random.random((10,20))\n",
    "v6"
   ]
  },
  {
   "cell_type": "code",
   "execution_count": 88,
   "metadata": {},
   "outputs": [
    {
     "data": {
      "text/plain": [
       "array([1., 1., 1., 1.])"
      ]
     },
     "execution_count": 88,
     "metadata": {},
     "output_type": "execute_result"
    }
   ],
   "source": [
    "ones=numpy.ones(4) # ones matres\n",
    "ones"
   ]
  },
  {
   "cell_type": "code",
   "execution_count": 89,
   "metadata": {},
   "outputs": [
    {
     "data": {
      "text/plain": [
       "array([0., 0., 0.])"
      ]
     },
     "execution_count": 89,
     "metadata": {},
     "output_type": "execute_result"
    }
   ],
   "source": [
    "z=numpy.zeros(3)\n",
    "z"
   ]
  },
  {
   "cell_type": "code",
   "execution_count": 92,
   "metadata": {},
   "outputs": [
    {
     "data": {
      "text/plain": [
       "array([[1., 0., 0., 0., 0.],\n",
       "       [0., 1., 0., 0., 0.],\n",
       "       [0., 0., 1., 0., 0.],\n",
       "       [0., 0., 0., 1., 0.],\n",
       "       [0., 0., 0., 0., 1.]])"
      ]
     },
     "execution_count": 92,
     "metadata": {},
     "output_type": "execute_result"
    }
   ],
   "source": [
    "i=numpy.eye(5)\n",
    "i"
   ]
  },
  {
   "cell_type": "code",
   "execution_count": 93,
   "metadata": {},
   "outputs": [
    {
     "data": {
      "text/plain": [
       "array([['1', '2', '3'],\n",
       "       ['4.0', '5.4', '6.8'],\n",
       "       ['ruthu', 'vanitha', 'nandini']], dtype='<U32')"
      ]
     },
     "execution_count": 93,
     "metadata": {},
     "output_type": "execute_result"
    }
   ],
   "source": [
    "comb"
   ]
  },
  {
   "cell_type": "code",
   "execution_count": 96,
   "metadata": {},
   "outputs": [
    {
     "data": {
      "text/plain": [
       "array(['1', '5.4', 'nandini'], dtype='<U32')"
      ]
     },
     "execution_count": 96,
     "metadata": {},
     "output_type": "execute_result"
    }
   ],
   "source": [
    "comb.diagonal() # diagonal elements"
   ]
  },
  {
   "cell_type": "code",
   "execution_count": 98,
   "metadata": {},
   "outputs": [
    {
     "data": {
      "text/plain": [
       "array(['hi', 'hi', 'hi', 'hi', 'hi'], dtype='<U2')"
      ]
     },
     "execution_count": 98,
     "metadata": {},
     "output_type": "execute_result"
    }
   ],
   "source": [
    "f=numpy.full(5,'hi') # full matrix\n",
    "f"
   ]
  },
  {
   "cell_type": "code",
   "execution_count": 102,
   "metadata": {
    "collapsed": true
   },
   "outputs": [
    {
     "ename": "NameError",
     "evalue": "name 'zeros' is not defined",
     "output_type": "error",
     "traceback": [
      "\u001b[1;31m---------------------------------------------------------------------------\u001b[0m",
      "\u001b[1;31mNameError\u001b[0m                                 Traceback (most recent call last)",
      "\u001b[1;32m<ipython-input-102-a2def92555cd>\u001b[0m in \u001b[0;36m<module>\u001b[1;34m\u001b[0m\n\u001b[1;32m----> 1\u001b[1;33m \u001b[0mprint\u001b[0m\u001b[1;33m(\u001b[0m\u001b[0mzeros\u001b[0m\u001b[1;33m.\u001b[0m\u001b[0mfill\u001b[0m\u001b[1;33m(\u001b[0m\u001b[1;34m'k'\u001b[0m\u001b[1;33m)\u001b[0m\u001b[1;33m)\u001b[0m\u001b[1;33m\u001b[0m\u001b[1;33m\u001b[0m\u001b[0m\n\u001b[0m",
      "\u001b[1;31mNameError\u001b[0m: name 'zeros' is not defined"
     ]
    }
   ],
   "source": [
    "print(zeros.fill('k'))"
   ]
  },
  {
   "cell_type": "markdown",
   "metadata": {},
   "source": [
    "#### Slicing \n",
    " - rows :\n",
    "        0 to len(ar)-1\n",
    " - 2d slicing"
   ]
  },
  {
   "cell_type": "code",
   "execution_count": 107,
   "metadata": {},
   "outputs": [
    {
     "data": {
      "text/plain": [
       "array([[10, 14, 18, 22, 26],\n",
       "       [30, 34, 38, 42, 46]])"
      ]
     },
     "execution_count": 107,
     "metadata": {},
     "output_type": "execute_result"
    }
   ],
   "source": [
    "re[:]"
   ]
  },
  {
   "cell_type": "code",
   "execution_count": 108,
   "metadata": {},
   "outputs": [
    {
     "data": {
      "text/plain": [
       "array([[10, 14, 18, 22, 26],\n",
       "       [30, 34, 38, 42, 46]])"
      ]
     },
     "execution_count": 108,
     "metadata": {},
     "output_type": "execute_result"
    }
   ],
   "source": [
    "re[::]"
   ]
  },
  {
   "cell_type": "code",
   "execution_count": null,
   "metadata": {},
   "outputs": [],
   "source": []
  },
  {
   "cell_type": "code",
   "execution_count": 110,
   "metadata": {
    "collapsed": true
   },
   "outputs": [
    {
     "name": "stdout",
     "output_type": "stream",
     "text": [
      "[[30 33 34 45 62]\n",
      " [25 34 53 37 33]\n",
      " [11 46 21 67 37]\n",
      " [48 46 51 30 66]]\n"
     ]
    }
   ],
   "source": [
    "m=numpy.random.randint(10,70,(4,5))\n",
    "print(m)"
   ]
  },
  {
   "cell_type": "code",
   "execution_count": 111,
   "metadata": {},
   "outputs": [
    {
     "name": "stdout",
     "output_type": "stream",
     "text": [
      "[[172 849 701 260 666]\n",
      " [341 739 158 866 638]\n",
      " [341 652 506 799 649]\n",
      " [362 274 700 282 376]]\n"
     ]
    }
   ],
   "source": [
    "m2=numpy.random.randint(100,900,(4,5))\n",
    "print(m2)"
   ]
  },
  {
   "cell_type": "code",
   "execution_count": 112,
   "metadata": {},
   "outputs": [
    {
     "data": {
      "text/plain": [
       "array([362, 274, 700, 282, 376])"
      ]
     },
     "execution_count": 112,
     "metadata": {},
     "output_type": "execute_result"
    }
   ],
   "source": [
    "m2[3]"
   ]
  },
  {
   "cell_type": "code",
   "execution_count": 113,
   "metadata": {},
   "outputs": [
    {
     "data": {
      "text/plain": [
       "array([362, 274, 700, 282, 376])"
      ]
     },
     "execution_count": 113,
     "metadata": {},
     "output_type": "execute_result"
    }
   ],
   "source": [
    "m2[-1] # last one"
   ]
  },
  {
   "cell_type": "code",
   "execution_count": 114,
   "metadata": {},
   "outputs": [
    {
     "data": {
      "text/plain": [
       "array([[172, 849, 701, 260, 666],\n",
       "       [341, 739, 158, 866, 638],\n",
       "       [341, 652, 506, 799, 649]])"
      ]
     },
     "execution_count": 114,
     "metadata": {},
     "output_type": "execute_result"
    }
   ],
   "source": [
    "m2[:3] # "
   ]
  },
  {
   "cell_type": "code",
   "execution_count": 119,
   "metadata": {},
   "outputs": [
    {
     "data": {
      "text/plain": [
       "849"
      ]
     },
     "execution_count": 119,
     "metadata": {},
     "output_type": "execute_result"
    }
   ],
   "source": [
    "# 2d indexing\n",
    "m2[0][1] # value at nd column of 1st row"
   ]
  },
  {
   "cell_type": "code",
   "execution_count": 121,
   "metadata": {
    "collapsed": true
   },
   "outputs": [
    {
     "data": {
      "text/plain": [
       "array([[158, 866, 638],\n",
       "       [506, 799, 649]])"
      ]
     },
     "execution_count": 121,
     "metadata": {},
     "output_type": "execute_result"
    }
   ],
   "source": [
    "m2[1:3,2:] # rows 2 to "
   ]
  },
  {
   "cell_type": "code",
   "execution_count": 122,
   "metadata": {
    "collapsed": true
   },
   "outputs": [
    {
     "name": "stdout",
     "output_type": "stream",
     "text": [
      "[[202 882 735 305 728]\n",
      " [366 773 211 903 671]\n",
      " [352 698 527 866 686]\n",
      " [410 320 751 312 442]]\n",
      "[[142 816 667 215 604]\n",
      " [316 705 105 829 605]\n",
      " [330 606 485 732 612]\n",
      " [314 228 649 252 310]]\n",
      "[[ 5160 28017 23834 11700 41292]\n",
      " [ 8525 25126  8374 32042 21054]\n",
      " [ 3751 29992 10626 53533 24013]\n",
      " [17376 12604 35700  8460 24816]]\n"
     ]
    }
   ],
   "source": [
    "print(m+m2)\n",
    "print(m2-m)\n",
    "print(m2*m)"
   ]
  },
  {
   "cell_type": "markdown",
   "metadata": {},
   "source": [
    "#### Vectorization in matrix"
   ]
  },
  {
   "cell_type": "code",
   "execution_count": 124,
   "metadata": {
    "collapsed": true
   },
   "outputs": [
    {
     "name": "stdout",
     "output_type": "stream",
     "text": [
      "[[35 38 39 50 67]\n",
      " [30 39 58 42 38]\n",
      " [16 51 26 72 42]\n",
      " [53 51 56 35 71]]\n"
     ]
    }
   ],
   "source": [
    "print(m+5) #entire matrix will be changed"
   ]
  },
  {
   "cell_type": "markdown",
   "metadata": {},
   "source": [
    "### Scientific computation\n",
    "- logarithms\n",
    "- exponentials"
   ]
  },
  {
   "cell_type": "code",
   "execution_count": 126,
   "metadata": {},
   "outputs": [
    {
     "data": {
      "text/plain": [
       "2.302585092994046"
      ]
     },
     "execution_count": 126,
     "metadata": {},
     "output_type": "execute_result"
    }
   ],
   "source": [
    "numpy.log(10)"
   ]
  },
  {
   "cell_type": "code",
   "execution_count": 127,
   "metadata": {},
   "outputs": [
    {
     "data": {
      "text/plain": [
       "0.0"
      ]
     },
     "execution_count": 127,
     "metadata": {},
     "output_type": "execute_result"
    }
   ],
   "source": [
    "numpy.log(1)"
   ]
  },
  {
   "cell_type": "code",
   "execution_count": 128,
   "metadata": {},
   "outputs": [
    {
     "data": {
      "text/plain": [
       "3.321928094887362"
      ]
     },
     "execution_count": 128,
     "metadata": {},
     "output_type": "execute_result"
    }
   ],
   "source": [
    "numpy.log2(10)"
   ]
  },
  {
   "cell_type": "code",
   "execution_count": 132,
   "metadata": {},
   "outputs": [
    {
     "data": {
      "text/plain": [
       "10.000000000000002"
      ]
     },
     "execution_count": 132,
     "metadata": {},
     "output_type": "execute_result"
    }
   ],
   "source": [
    "numpy.exp(numpy.log(10)) # exponential of log10"
   ]
  },
  {
   "cell_type": "code",
   "execution_count": 134,
   "metadata": {},
   "outputs": [
    {
     "data": {
      "text/plain": [
       "7.38905609893065"
      ]
     },
     "execution_count": 134,
     "metadata": {},
     "output_type": "execute_result"
    }
   ],
   "source": [
    "numpy.exp(2)"
   ]
  },
  {
   "cell_type": "code",
   "execution_count": 136,
   "metadata": {},
   "outputs": [
    {
     "name": "stdout",
     "output_type": "stream",
     "text": [
      "11\n"
     ]
    }
   ],
   "source": [
    "print(m.min())"
   ]
  },
  {
   "cell_type": "code",
   "execution_count": 137,
   "metadata": {},
   "outputs": [
    {
     "name": "stdout",
     "output_type": "stream",
     "text": [
      "67\n",
      "809\n",
      "40.45\n"
     ]
    }
   ],
   "source": [
    "print(m.max())\n",
    "print(m.sum())\n",
    "print(m.mean())"
   ]
  },
  {
   "cell_type": "code",
   "execution_count": 138,
   "metadata": {},
   "outputs": [
    {
     "data": {
      "text/plain": [
       "array([[30, 33, 34, 45, 62],\n",
       "       [25, 34, 53, 37, 33],\n",
       "       [11, 46, 21, 67, 37],\n",
       "       [48, 46, 51, 30, 66]])"
      ]
     },
     "execution_count": 138,
     "metadata": {},
     "output_type": "execute_result"
    }
   ],
   "source": [
    "m"
   ]
  },
  {
   "cell_type": "code",
   "execution_count": 139,
   "metadata": {},
   "outputs": [],
   "source": [
    "m.fill(100)"
   ]
  },
  {
   "cell_type": "code",
   "execution_count": 140,
   "metadata": {},
   "outputs": [
    {
     "data": {
      "text/plain": [
       "array([[100, 100, 100, 100, 100],\n",
       "       [100, 100, 100, 100, 100],\n",
       "       [100, 100, 100, 100, 100],\n",
       "       [100, 100, 100, 100, 100]])"
      ]
     },
     "execution_count": 140,
     "metadata": {},
     "output_type": "execute_result"
    }
   ],
   "source": [
    "m"
   ]
  },
  {
   "cell_type": "code",
   "execution_count": 141,
   "metadata": {},
   "outputs": [
    {
     "data": {
      "text/plain": [
       "array([['hi', 'hi', 'hi'],\n",
       "       ['hi', 'hi', 'hi']], dtype='<U2')"
      ]
     },
     "execution_count": 141,
     "metadata": {},
     "output_type": "execute_result"
    }
   ],
   "source": [
    "numpy.full((2,3),'hi')"
   ]
  },
  {
   "cell_type": "code",
   "execution_count": null,
   "metadata": {},
   "outputs": [],
   "source": []
  }
 ],
 "metadata": {
  "kernelspec": {
   "display_name": "Python 3",
   "language": "python",
   "name": "python3"
  },
  "language_info": {
   "codemirror_mode": {
    "name": "ipython",
    "version": 3
   },
   "file_extension": ".py",
   "mimetype": "text/x-python",
   "name": "python",
   "nbconvert_exporter": "python",
   "pygments_lexer": "ipython3",
   "version": "3.7.4"
  }
 },
 "nbformat": 4,
 "nbformat_minor": 2
}
