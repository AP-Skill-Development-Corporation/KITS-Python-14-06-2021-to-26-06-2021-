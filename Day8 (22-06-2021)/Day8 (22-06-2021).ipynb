{
 "cells": [
  {
   "cell_type": "code",
   "execution_count": 6,
   "metadata": {},
   "outputs": [
    {
     "name": "stdout",
     "output_type": "stream",
     "text": [
      "Enter a password:Pavani@1111\n",
      "valid password\n"
     ]
    }
   ],
   "source": [
    "#Pavani@1111\n",
    "import re\n",
    "password=input(\"Enter a password:\")\n",
    "pattern=\"^[A-Z][a-z]{4,10}[@][0-9]{4}$\"\n",
    "if re.match(pattern,password):\n",
    "    print(\"valid password\")\n",
    "else:\n",
    "    print(\"Invalid password\")"
   ]
  },
  {
   "cell_type": "code",
   "execution_count": null,
   "metadata": {},
   "outputs": [],
   "source": [
    "#Day objectives:\n",
    "- File Handling\n",
    "- File DataProcessing\n",
    "- Comprehensions"
   ]
  },
  {
   "cell_type": "code",
   "execution_count": null,
   "metadata": {},
   "outputs": [],
   "source": [
    "# File Handling:\n",
    "- it allows users to handle files\n",
    "- read,write,to work on files\n",
    "# steps:\n",
    "- open file\n",
    "- doing the operations\n",
    "- close that file\n",
    "\n",
    "#syntax:\n",
    "open(filename,mode)\n",
    "\n",
    "#3 modes:\n",
    "1)read mode (\"r\")\n",
    "2)write mode (\"w\")\n",
    "3)append mode ('a')"
   ]
  },
  {
   "cell_type": "code",
   "execution_count": 8,
   "metadata": {},
   "outputs": [
    {
     "name": "stdout",
     "output_type": "stream",
     "text": [
      "Hii Everyone\n",
      "Hello world\n"
     ]
    }
   ],
   "source": [
    "# opening file--->open()\n",
    "# by default ,the file will be opened in \"r\" mode\n",
    "f=open('datafiles/data.txt')\n",
    "fr=f.read()\n",
    "print(fr)\n",
    "f.close()"
   ]
  },
  {
   "cell_type": "code",
   "execution_count": 11,
   "metadata": {},
   "outputs": [
    {
     "name": "stdout",
     "output_type": "stream",
     "text": [
      "Hii Everyone\n",
      "Hello world\n"
     ]
    }
   ],
   "source": [
    "# opening file--->open(),readmode\n",
    "#- every time u have to close the file at end of the operation,otherwise the changes will not be updated\n",
    "f=open('datafiles/data.txt',\"r\")\n",
    "fr=f.read()\n",
    "print(fr)\n",
    "f.close()"
   ]
  },
  {
   "cell_type": "code",
   "execution_count": 12,
   "metadata": {},
   "outputs": [
    {
     "name": "stdout",
     "output_type": "stream",
     "text": [
      "Hii Everyone\n",
      "Hello world\n"
     ]
    }
   ],
   "source": [
    "#with open():\n",
    "#with automatically closes the file\n",
    "with open('datafiles/data.txt','r') as f:\n",
    "    fr=f.read()\n",
    "    print(fr)"
   ]
  },
  {
   "cell_type": "code",
   "execution_count": 17,
   "metadata": {},
   "outputs": [
    {
     "name": "stdout",
     "output_type": "stream",
     "text": [
      "Hii Everyone\n",
      "Hello world\n"
     ]
    }
   ],
   "source": [
    "#modes:\n",
    "#- read()\n",
    "f=open('datafiles/data.txt','r')\n",
    "fr=f.read()\n",
    "print(fr)\n",
    "f.close()"
   ]
  },
  {
   "cell_type": "code",
   "execution_count": 18,
   "metadata": {},
   "outputs": [
    {
     "ename": "FileNotFoundError",
     "evalue": "[Errno 2] No such file or directory: 'datafiles/data1.txt'",
     "output_type": "error",
     "traceback": [
      "\u001b[1;31m---------------------------------------------------------------------------\u001b[0m",
      "\u001b[1;31mFileNotFoundError\u001b[0m                         Traceback (most recent call last)",
      "\u001b[1;32m<ipython-input-18-53c2b726ba9b>\u001b[0m in \u001b[0;36m<module>\u001b[1;34m\u001b[0m\n\u001b[1;32m----> 1\u001b[1;33m \u001b[0mf\u001b[0m\u001b[1;33m=\u001b[0m\u001b[0mopen\u001b[0m\u001b[1;33m(\u001b[0m\u001b[1;34m'datafiles/data1.txt'\u001b[0m\u001b[1;33m,\u001b[0m\u001b[1;34m'r'\u001b[0m\u001b[1;33m)\u001b[0m\u001b[1;33m\u001b[0m\u001b[1;33m\u001b[0m\u001b[0m\n\u001b[0m\u001b[0;32m      2\u001b[0m \u001b[0mfr\u001b[0m\u001b[1;33m=\u001b[0m\u001b[0mf\u001b[0m\u001b[1;33m.\u001b[0m\u001b[0mread\u001b[0m\u001b[1;33m(\u001b[0m\u001b[1;33m)\u001b[0m\u001b[1;33m\u001b[0m\u001b[1;33m\u001b[0m\u001b[0m\n\u001b[0;32m      3\u001b[0m \u001b[0mprint\u001b[0m\u001b[1;33m(\u001b[0m\u001b[0mfr\u001b[0m\u001b[1;33m)\u001b[0m\u001b[1;33m\u001b[0m\u001b[1;33m\u001b[0m\u001b[0m\n\u001b[0;32m      4\u001b[0m \u001b[0mf\u001b[0m\u001b[1;33m.\u001b[0m\u001b[0mclose\u001b[0m\u001b[1;33m(\u001b[0m\u001b[1;33m)\u001b[0m\u001b[1;33m\u001b[0m\u001b[1;33m\u001b[0m\u001b[0m\n",
      "\u001b[1;31mFileNotFoundError\u001b[0m: [Errno 2] No such file or directory: 'datafiles/data1.txt'"
     ]
    }
   ],
   "source": [
    "f=open('datafiles/data1.txt','r')\n",
    "fr=f.read()\n",
    "print(fr)\n",
    "f.close()"
   ]
  },
  {
   "cell_type": "code",
   "execution_count": null,
   "metadata": {},
   "outputs": [],
   "source": []
  },
  {
   "cell_type": "code",
   "execution_count": 20,
   "metadata": {},
   "outputs": [
    {
     "name": "stdout",
     "output_type": "stream",
     "text": [
      "28\n"
     ]
    }
   ],
   "source": [
    "#write mode--->\"w\"\n",
    "# if u want add new line to data.txt using writemode then it clear the already existing data\n",
    "#it replaces old data with new data\n",
    "f=open('datafiles/data.txt','w')\n",
    "fw=f.write(\"pavani \\npython programming \\n\")\n",
    "print(fw)\n",
    "f.close()"
   ]
  },
  {
   "cell_type": "code",
   "execution_count": 21,
   "metadata": {},
   "outputs": [
    {
     "name": "stdout",
     "output_type": "stream",
     "text": [
      "31\n"
     ]
    }
   ],
   "source": [
    "f=open('datafiles/data1.txt','w')\n",
    "fw=f.write(\"Kits College \\npython Workshop \\n\")\n",
    "print(fw)\n",
    "f.close()"
   ]
  },
  {
   "cell_type": "code",
   "execution_count": 22,
   "metadata": {},
   "outputs": [
    {
     "name": "stdout",
     "output_type": "stream",
     "text": [
      "32\n"
     ]
    }
   ],
   "source": [
    "#if u opening a file which is not there in directory using write mode,then it will create that file \n",
    "f=open('datafiles/data2.txt','w')\n",
    "fw=f.write(\"APSSDC \\npython Online Workshop \\n\")\n",
    "print(fw)\n",
    "f.close()"
   ]
  },
  {
   "cell_type": "code",
   "execution_count": 23,
   "metadata": {},
   "outputs": [
    {
     "name": "stdout",
     "output_type": "stream",
     "text": [
      "14\n"
     ]
    }
   ],
   "source": [
    "## append mode\n",
    "#using append u can insert new lines without changing old lines\n",
    "f=open('datafiles/data2.txt',\"a\")\n",
    "fa=f.write('Kits college \\n')\n",
    "print(fa)\n",
    "f.close()"
   ]
  },
  {
   "cell_type": "code",
   "execution_count": 24,
   "metadata": {},
   "outputs": [
    {
     "name": "stdout",
     "output_type": "stream",
     "text": [
      "17\n"
     ]
    }
   ],
   "source": [
    "#if u opening a file which is not there in directory using write mode,then it will create that file \n",
    "f=open('datafiles/data3.txt',\"a\")\n",
    "fa=f.write('apssdc workshop \\n')\n",
    "print(fa)\n",
    "f.close()"
   ]
  },
  {
   "cell_type": "code",
   "execution_count": 25,
   "metadata": {},
   "outputs": [
    {
     "name": "stdout",
     "output_type": "stream",
     "text": [
      "59\n"
     ]
    }
   ],
   "source": [
    "#tell() and seek():\n",
    "#tell()--->this method helps us to know the cursor position in the file\n",
    "#seek()--->this method is helps us to move the cursor to a particular point in the file\n",
    "f=open('datafiles/data3.txt','r')\n",
    "f.read()\n",
    "print(f.tell())\n",
    "f.close()"
   ]
  },
  {
   "cell_type": "code",
   "execution_count": 27,
   "metadata": {},
   "outputs": [
    {
     "name": "stdout",
     "output_type": "stream",
     "text": [
      "apssdc wor\n"
     ]
    }
   ],
   "source": [
    "f=open('datafiles/data3.txt','r')\n",
    "f.read()\n",
    "f.seek(0) #cursor move to 0 position\n",
    "print(f.read(10))  #0-9\n",
    "f.close()"
   ]
  },
  {
   "cell_type": "code",
   "execution_count": null,
   "metadata": {},
   "outputs": [],
   "source": []
  },
  {
   "cell_type": "code",
   "execution_count": 31,
   "metadata": {},
   "outputs": [
    {
     "name": "stdout",
     "output_type": "stream",
     "text": [
      "['python', 'work@shop']\n",
      "['python work', 'shop']\n"
     ]
    }
   ],
   "source": [
    "s=\"python work@shop\"\n",
    "print(s.split())\n",
    "print(s.split('@'))"
   ]
  },
  {
   "cell_type": "code",
   "execution_count": 33,
   "metadata": {},
   "outputs": [
    {
     "name": "stdout",
     "output_type": "stream",
     "text": [
      "['apssdc', 'workshop', 'data', '1', 'data', '2', 'data', '3', 'data', '4', 'hello', 'everyone']\n"
     ]
    }
   ],
   "source": [
    "#split() and splitlines()\n",
    "#this splits the variable when space is encountered\n",
    "f=open('datafiles/data3.txt','r')\n",
    "fs=f.read()\n",
    "print(fs.split())"
   ]
  },
  {
   "cell_type": "code",
   "execution_count": 34,
   "metadata": {},
   "outputs": [
    {
     "name": "stdout",
     "output_type": "stream",
     "text": [
      "['apssdc workshop ', 'data 1', 'data 2', 'data 3', 'data 4', 'hello everyone']\n"
     ]
    }
   ],
   "source": [
    "#split() and splitlines()\n",
    "#this splits the variable when line is encountered\n",
    "f=open('datafiles/data3.txt','r')\n",
    "fs=f.read()\n",
    "print(fs.splitlines())"
   ]
  },
  {
   "cell_type": "code",
   "execution_count": 35,
   "metadata": {},
   "outputs": [
    {
     "name": "stdout",
     "output_type": "stream",
     "text": [
      "apssdc workshop \n",
      "\n"
     ]
    }
   ],
   "source": [
    "#readline and readlines:\n",
    "#readline--->reads first line\n",
    "f=open('datafiles/data3.txt','r')\n",
    "fs=f.readline()\n",
    "print(fs)"
   ]
  },
  {
   "cell_type": "code",
   "execution_count": 36,
   "metadata": {},
   "outputs": [
    {
     "name": "stdout",
     "output_type": "stream",
     "text": [
      "['apssdc workshop \\n', 'data 1\\n', 'data 2\\n', 'data 3\\n', 'data 4\\n', 'hello everyone']\n"
     ]
    }
   ],
   "source": [
    "#readline and readlines:\n",
    "#readlines--->reads all lines to the end of the file\n",
    "f=open('datafiles/data3.txt','r')\n",
    "fs=f.readlines()\n",
    "print(fs)"
   ]
  },
  {
   "cell_type": "code",
   "execution_count": 38,
   "metadata": {},
   "outputs": [
    {
     "name": "stdout",
     "output_type": "stream",
     "text": [
      "apssdc workshop \n",
      " data 1\n",
      " data 2\n",
      " data 3\n",
      " data 4\n",
      " hello everyone "
     ]
    }
   ],
   "source": [
    "f=open('datafiles/data3.txt','r')\n",
    "fs=f.readlines()\n",
    "for i in fs:\n",
    "    print(i,end=\" \")"
   ]
  },
  {
   "cell_type": "code",
   "execution_count": null,
   "metadata": {},
   "outputs": [],
   "source": [
    "#file data processing:\n",
    "- working with the data in a file"
   ]
  },
  {
   "cell_type": "code",
   "execution_count": 50,
   "metadata": {},
   "outputs": [
    {
     "name": "stdout",
     "output_type": "stream",
     "text": [
      "filesize: 14\n",
      "lines count: 6\n",
      "words count: 12\n",
      "charcters count: 59\n"
     ]
    }
   ],
   "source": [
    "#charcter count,word count,lines count,filesize\n",
    "f=open('datafiles/data3.txt','r')\n",
    "lines=0\n",
    "words=0\n",
    "charcters=0\n",
    "for line in f:\n",
    "    lines=lines+1\n",
    "    wordslist=line.split()\n",
    "    words=words+len(wordslist)\n",
    "    charcters=charcters+len(line)\n",
    "    filesize=len(line)\n",
    "print('filesize:',filesize)  #last line length\n",
    "print('lines count:',lines)  #number of lines\n",
    "print('words count:',words)  #number of words\n",
    "print('charcters count:',charcters)  #number of charcters"
   ]
  },
  {
   "cell_type": "code",
   "execution_count": null,
   "metadata": {},
   "outputs": [],
   "source": []
  },
  {
   "cell_type": "code",
   "execution_count": 56,
   "metadata": {},
   "outputs": [
    {
     "data": {
      "text/plain": [
       "71"
      ]
     },
     "execution_count": 56,
     "metadata": {},
     "output_type": "execute_result"
    }
   ],
   "source": [
    "import random \n",
    "random.randint(1,100)"
   ]
  },
  {
   "cell_type": "code",
   "execution_count": 68,
   "metadata": {},
   "outputs": [],
   "source": [
    "from random import randint\n",
    "def marksgen(n,lb,ub):\n",
    "    with open('datafiles/marks.txt','a') as f:\n",
    "        for i in range(0,n):\n",
    "            r=randint(lb,ub)\n",
    "            f.write(str(r)+'\\n')\n",
    "marksgen(50,1,100)"
   ]
  },
  {
   "cell_type": "code",
   "execution_count": 73,
   "metadata": {},
   "outputs": [
    {
     "name": "stdout",
     "output_type": "stream",
     "text": [
      "highestmarks: 93\n",
      "minmarks:  10\n",
      "passpercentage: 48.0\n"
     ]
    }
   ],
   "source": [
    "def reportgen(filepath):\n",
    "    with open(filepath) as f:\n",
    "        filedata=f.read()\n",
    "        lines=filedata.split()\n",
    "        #print(lines)\n",
    "        passcount=0\n",
    "        for mark in lines:\n",
    "            if int(mark)>35:\n",
    "                passcount+=1\n",
    "                passpercentage=(passcount/len(lines))*100\n",
    "        print('passpercentage:',passpercentage)\n",
    "filepath='datafiles/marks.txt'\n",
    "reportgen(filepath)"
   ]
  },
  {
   "cell_type": "code",
   "execution_count": null,
   "metadata": {},
   "outputs": [],
   "source": []
  },
  {
   "cell_type": "code",
   "execution_count": null,
   "metadata": {},
   "outputs": [],
   "source": [
    "# Comprehensions:\n",
    "#3 types:\n",
    "1)list comprehension\n",
    "2)dictionary comprehension\n",
    "3) set comprehension\n",
    "# lesscode,speed execution,easy to understand"
   ]
  },
  {
   "cell_type": "code",
   "execution_count": null,
   "metadata": {},
   "outputs": [],
   "source": [
    "#list comprehension:\n",
    "- it is easy way to create list\n",
    "- it is more efficient compared normal loops\n",
    "#syn:\n",
    "[output(expression) for item in list if condition]"
   ]
  },
  {
   "cell_type": "code",
   "execution_count": 76,
   "metadata": {},
   "outputs": [
    {
     "name": "stdout",
     "output_type": "stream",
     "text": [
      "[1, 2, 3, 4, 5, 6, 7, 8, 9, 10]\n"
     ]
    }
   ],
   "source": [
    "#normal way\n",
    "li=[]\n",
    "for i in range(1,11):\n",
    "    li.append(i)\n",
    "print(li)"
   ]
  },
  {
   "cell_type": "code",
   "execution_count": 77,
   "metadata": {},
   "outputs": [
    {
     "name": "stdout",
     "output_type": "stream",
     "text": [
      "[1, 2, 3, 4, 5, 6, 7, 8, 9, 10]\n"
     ]
    }
   ],
   "source": [
    "#list comprehension\n",
    "print([i for i in range(1,11)])"
   ]
  },
  {
   "cell_type": "code",
   "execution_count": 78,
   "metadata": {},
   "outputs": [
    {
     "name": "stdout",
     "output_type": "stream",
     "text": [
      "[5, 10, 15, 20, 25, 30, 35, 40, 45, 50]\n"
     ]
    }
   ],
   "source": [
    "#list comprehension\n",
    "print([i*5 for i in range(1,11)])"
   ]
  },
  {
   "cell_type": "code",
   "execution_count": 79,
   "metadata": {},
   "outputs": [
    {
     "name": "stdout",
     "output_type": "stream",
     "text": [
      "[1, 8, 27, 64, 125, 216, 343, 512, 729, 1000]\n"
     ]
    }
   ],
   "source": [
    "#list comprehension\n",
    "print([i**3 for i in range(1,11)])"
   ]
  },
  {
   "cell_type": "code",
   "execution_count": 81,
   "metadata": {},
   "outputs": [
    {
     "name": "stdout",
     "output_type": "stream",
     "text": [
      "[2, 4, 6, 8, 10]\n"
     ]
    }
   ],
   "source": [
    "li=[]\n",
    "for i in range(1,11):\n",
    "    if i%2==0:\n",
    "        li.append(i)\n",
    "print(li)"
   ]
  },
  {
   "cell_type": "code",
   "execution_count": 82,
   "metadata": {},
   "outputs": [
    {
     "name": "stdout",
     "output_type": "stream",
     "text": [
      "[2, 4, 6, 8, 10]\n"
     ]
    }
   ],
   "source": [
    "print([i for i in range(1,11) if i%2==0])"
   ]
  },
  {
   "cell_type": "code",
   "execution_count": 85,
   "metadata": {},
   "outputs": [
    {
     "name": "stdout",
     "output_type": "stream",
     "text": [
      "[2, 4, 6, 8, 10, 12, 14, 16, 18, 20, 22, 24, 26, 28, 30, 32, 34, 36, 38, 40, 42, 44, 46, 48]\n"
     ]
    }
   ],
   "source": [
    "print([i for i in range (1,50) if i%2==0])"
   ]
  },
  {
   "cell_type": "code",
   "execution_count": 86,
   "metadata": {},
   "outputs": [
    {
     "name": "stdout",
     "output_type": "stream",
     "text": [
      "[14, 28, 42, 56, 70, 84, 98]\n"
     ]
    }
   ],
   "source": [
    "print([i for i in range(1,100) if i%2==0 and i%7==0])"
   ]
  },
  {
   "cell_type": "code",
   "execution_count": 87,
   "metadata": {},
   "outputs": [
    {
     "ename": "SyntaxError",
     "evalue": "invalid syntax (<ipython-input-87-449957961e11>, line 1)",
     "output_type": "error",
     "traceback": [
      "\u001b[1;36m  File \u001b[1;32m\"<ipython-input-87-449957961e11>\"\u001b[1;36m, line \u001b[1;32m1\u001b[0m\n\u001b[1;33m    print([\"Even\" for i in range(10) if i%2==0 else \"Odd\"])\u001b[0m\n\u001b[1;37m                                                  ^\u001b[0m\n\u001b[1;31mSyntaxError\u001b[0m\u001b[1;31m:\u001b[0m invalid syntax\n"
     ]
    }
   ],
   "source": [
    "print([\"Even\" for i in range(10) if i%2==0 else \"Odd\"])"
   ]
  },
  {
   "cell_type": "code",
   "execution_count": 88,
   "metadata": {},
   "outputs": [
    {
     "name": "stdout",
     "output_type": "stream",
     "text": [
      "['Even', 'Odd', 'Even', 'Odd', 'Even', 'Odd', 'Even', 'Odd', 'Even', 'Odd']\n"
     ]
    }
   ],
   "source": [
    "print([\"Even\" if i%2==0 else \"Odd\" for i in range(10)])"
   ]
  },
  {
   "cell_type": "code",
   "execution_count": 90,
   "metadata": {},
   "outputs": [
    {
     "name": "stdout",
     "output_type": "stream",
     "text": [
      "10\n",
      "[1, 2, 5, 10]\n"
     ]
    }
   ],
   "source": [
    "li=[]\n",
    "n=int(input())\n",
    "for i in range(1,n+1):\n",
    "    if n%i==0:\n",
    "        li.append(i)\n",
    "print(li)"
   ]
  },
  {
   "cell_type": "code",
   "execution_count": 93,
   "metadata": {},
   "outputs": [
    {
     "name": "stdout",
     "output_type": "stream",
     "text": [
      "[1, 2, 5, 10]\n"
     ]
    }
   ],
   "source": [
    "n=10\n",
    "print([i for i in range(1,n+1)  if n%i==0])"
   ]
  },
  {
   "cell_type": "code",
   "execution_count": null,
   "metadata": {},
   "outputs": [],
   "source": [
    "#dictionary comprehensions:\n",
    "{key:value}\n",
    "#syn:\n",
    "{key:value for x in iterable if condition}"
   ]
  },
  {
   "cell_type": "code",
   "execution_count": null,
   "metadata": {},
   "outputs": [],
   "source": []
  },
  {
   "cell_type": "code",
   "execution_count": 94,
   "metadata": {},
   "outputs": [
    {
     "name": "stdout",
     "output_type": "stream",
     "text": [
      "{1: 1, 2: 4, 3: 9, 4: 16, 5: 25}\n"
     ]
    }
   ],
   "source": [
    "print({i:i**2 for i in [1,2,3,4,5]})"
   ]
  },
  {
   "cell_type": "code",
   "execution_count": null,
   "metadata": {},
   "outputs": [],
   "source": [
    "{0:A,1:B,2:C}"
   ]
  },
  {
   "cell_type": "code",
   "execution_count": 95,
   "metadata": {},
   "outputs": [
    {
     "data": {
      "text/plain": [
       "65"
      ]
     },
     "execution_count": 95,
     "metadata": {},
     "output_type": "execute_result"
    }
   ],
   "source": [
    "ord('A')"
   ]
  },
  {
   "cell_type": "code",
   "execution_count": 102,
   "metadata": {},
   "outputs": [
    {
     "name": "stdout",
     "output_type": "stream",
     "text": [
      "A\n",
      "B\n",
      "C\n",
      "D\n"
     ]
    }
   ],
   "source": [
    "print(chr(65+0))--->chr(65)\n",
    "print(chr(65+1))--->chr(66)\n",
    "print(chr(65+2))--->chr(67)\n",
    "print(chr(65+3))--->chr(68)"
   ]
  },
  {
   "cell_type": "code",
   "execution_count": 109,
   "metadata": {},
   "outputs": [
    {
     "name": "stdout",
     "output_type": "stream",
     "text": [
      "A\n",
      "B\n",
      "C\n",
      "D\n"
     ]
    }
   ],
   "source": [
    "print(chr(65))\n",
    "print(chr(66))\n",
    "print(chr(67))\n",
    "print(chr(68))"
   ]
  },
  {
   "cell_type": "code",
   "execution_count": 104,
   "metadata": {},
   "outputs": [
    {
     "name": "stdout",
     "output_type": "stream",
     "text": [
      "0\n",
      "1\n",
      "2\n",
      "3\n"
     ]
    }
   ],
   "source": [
    "for i in range(4): #0 #1 #2 #3\n",
    "    print(i)"
   ]
  },
  {
   "cell_type": "code",
   "execution_count": 103,
   "metadata": {},
   "outputs": [
    {
     "name": "stdout",
     "output_type": "stream",
     "text": [
      "{0: 'A', 1: 'B', 2: 'C', 3: 'D'}\n"
     ]
    }
   ],
   "source": [
    "print({i:chr(65+i) for i in range(4)})"
   ]
  },
  {
   "cell_type": "code",
   "execution_count": null,
   "metadata": {},
   "outputs": [],
   "source": []
  },
  {
   "cell_type": "code",
   "execution_count": null,
   "metadata": {},
   "outputs": [],
   "source": []
  },
  {
   "cell_type": "code",
   "execution_count": null,
   "metadata": {},
   "outputs": [],
   "source": [
    "#set comptrehension\n",
    "#syn:\n",
    "{i for i in iterator if condition}"
   ]
  },
  {
   "cell_type": "code",
   "execution_count": 110,
   "metadata": {},
   "outputs": [
    {
     "name": "stdout",
     "output_type": "stream",
     "text": [
      "{8, 2, 4, 6}\n"
     ]
    }
   ],
   "source": [
    "#set doesn't suport duplicates\n",
    "n=[1,2,3,4,5,6,7,7,8,9,3,4,4,6]\n",
    "print({i for i in n if i%2==0})"
   ]
  },
  {
   "cell_type": "code",
   "execution_count": 111,
   "metadata": {},
   "outputs": [
    {
     "name": "stdout",
     "output_type": "stream",
     "text": [
      "{(3, 2), (9, 1), (8, 1), (2, 1), (6, 2), (4, 3), (5, 1), (1, 1), (7, 2)}\n"
     ]
    }
   ],
   "source": [
    "n=[1,2,3,4,5,6,7,7,8,9,3,4,4,6]\n",
    "print({(i,n.count(i)) for i in n})"
   ]
  },
  {
   "cell_type": "code",
   "execution_count": null,
   "metadata": {},
   "outputs": [],
   "source": []
  },
  {
   "cell_type": "code",
   "execution_count": null,
   "metadata": {},
   "outputs": [],
   "source": [
    "#task:\n",
    "#distinctpercentage----->above and equal 80 \n",
    "#failedpercentage--->100-passpercentage"
   ]
  },
  {
   "cell_type": "code",
   "execution_count": null,
   "metadata": {},
   "outputs": [],
   "source": [
    "task:\n",
    "d=['o','o','o','b','o','a','a','a']\n",
    "o/p: {'o':4,'b':1,'a':3}---->count\n",
    "    \n",
    "n=['pavani','ruthu','workshop']\n",
    "o/p:{'pavani':6,'ruthu':5,'workshop':8}---->length"
   ]
  }
 ],
 "metadata": {
  "kernelspec": {
   "display_name": "Python 3",
   "language": "python",
   "name": "python3"
  },
  "language_info": {
   "codemirror_mode": {
    "name": "ipython",
    "version": 3
   },
   "file_extension": ".py",
   "mimetype": "text/x-python",
   "name": "python",
   "nbconvert_exporter": "python",
   "pygments_lexer": "ipython3",
   "version": "3.7.3"
  }
 },
 "nbformat": 4,
 "nbformat_minor": 2
}
